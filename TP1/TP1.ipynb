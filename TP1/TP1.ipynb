{
 "cells": [
  {
   "cell_type": "markdown",
   "metadata": {},
   "source": [
    "# 1 - Overview\n",
    "\n",
    "Twitter is a mix of social network and microblogging. In this network, people post information and communicate among themselves through messages, called tweets, that can contain up to 280 characters. In this assignment, *we will implement a prototype that can detect if an airline company is positively or negatively mentioned in a tweet*. \n",
    "\n"
   ]
  },
  {
   "cell_type": "markdown",
   "metadata": {
    "hide_input": true
   },
   "source": [
    "# 2 - Sentiment Analysis Model (13 points)\n",
    "\n",
    "In the literature, the task of extracting the sentiment of a text is called *sentiment analysis*. We will implement a bag-of-words (BoW) model for this task.\n",
    "\n",
    "## 2.1 -  Setup\n",
    "\n",
    "Please run the code below to install the packages needed for this assignment."
   ]
  },
  {
   "cell_type": "code",
   "execution_count": 13,
   "metadata": {},
   "outputs": [
    {
     "name": "stderr",
     "output_type": "stream",
     "text": [
      "[nltk_data] Downloading package punkt to C:\\Users\\Elisa\n",
      "[nltk_data]     Pigeon\\AppData\\Roaming\\nltk_data...\n",
      "[nltk_data]   Package punkt is already up-to-date!\n",
      "[nltk_data] Downloading package stopwords to C:\\Users\\Elisa\n",
      "[nltk_data]     Pigeon\\AppData\\Roaming\\nltk_data...\n",
      "[nltk_data]   Package stopwords is already up-to-date!\n",
      "[nltk_data] Downloading package averaged_perceptron_tagger to\n",
      "[nltk_data]     C:\\Users\\Elisa Pigeon\\AppData\\Roaming\\nltk_data...\n",
      "[nltk_data]   Package averaged_perceptron_tagger is already up-to-\n",
      "[nltk_data]       date!\n",
      "[nltk_data] Downloading package universal_tagset to C:\\Users\\Elisa\n",
      "[nltk_data]     Pigeon\\AppData\\Roaming\\nltk_data...\n",
      "[nltk_data]   Package universal_tagset is already up-to-date!\n"
     ]
    },
    {
     "data": {
      "text/plain": [
       "True"
      ]
     },
     "execution_count": 13,
     "metadata": {},
     "output_type": "execute_result"
    }
   ],
   "source": [
    "# If you want, you can use anaconda and install after nltk library\n",
    "#!pip install --upgrade --user pip\n",
    "#!pip install --user numpy\n",
    "#!pip install --user sklearn\n",
    "#!pip install --user scipy\n",
    "#!pip install --user nltk\n",
    "\n",
    "\n",
    "#python\n",
    "import nltk\n",
    "nltk.download(\"punkt\")\n",
    "nltk.download('stopwords')\n",
    "nltk.download('averaged_perceptron_tagger')\n",
    "nltk.download('universal_tagset')"
   ]
  },
  {
   "cell_type": "markdown",
   "metadata": {},
   "source": [
    "## 2.2 - Dataset\n",
    "\n",
    "Please download the zip file in the following url: https://drive.google.com/file/d/1iGmESwPXpO3sIZFGOCrysxJ27AHdly-Y/view?usp=sharing\n",
    "\n",
    "In this zip file, there are 2 files:\n",
    "1. train.tsv: training dataset\n",
    "2. dev.tsv: validation dataset\n",
    "\n",
    "Each line of the files has the following information about a tweet: *tweet id*, *user id*, *label* and *message text*.\n",
    "\n",
    "There are three labels in the dataset: *negative*, *neutral* and *positive*. We represent each one of these labels as 0, 1 and 2 respectively.\n",
    "\n",
    "In the code above read the training and validation datasets."
   ]
  },
  {
   "cell_type": "code",
   "execution_count": 2,
   "metadata": {},
   "outputs": [
    {
     "name": "stdout",
     "output_type": "stream",
     "text": [
      "6817\n",
      "6817\n",
      "1133\n",
      "1133\n"
     ]
    }
   ],
   "source": [
    "import codecs\n",
    "import re\n",
    "import math\n",
    "\n",
    "def load_dataset(path):\n",
    "    dtFile = codecs.open(path, 'r')\n",
    "    \n",
    "    x = []\n",
    "    y = []\n",
    "    \n",
    "    for l in dtFile:\n",
    "        sid, uid, label,text = re.split(r\"\\s+\", l, maxsplit=3)\n",
    "        \n",
    "        text = text.strip()\n",
    "        \n",
    "        # Remove not available\n",
    "        if text == \"Not Available\":\n",
    "            continue\n",
    "        \n",
    "        x.append(text)\n",
    "        \n",
    "        if label == \"negative\": \n",
    "            y.append(0)\n",
    "        elif label == \"neutral\": \n",
    "            y.append(1)\n",
    "        elif label == \"positive\": \n",
    "            y.append(2)\n",
    "        \n",
    "    assert len(x) == len(y)\n",
    "            \n",
    "    return x,y\n",
    "            \n",
    "\n",
    "# Path of training dataset\n",
    "trainingPath=\"./train_data_full.tsv\"\n",
    "\n",
    "# Path of validation dataset\n",
    "validationPath=\"./dev_data_full.tsv\"\n",
    "\n",
    "training_X, training_Y = load_dataset(trainingPath)\n",
    "validation_X, validation_Y = load_dataset(validationPath)\n",
    "print(len(training_X))\n",
    "print(len(training_Y))\n",
    "print(len(validation_X))\n",
    "print(len(validation_Y))"
   ]
  },
  {
   "cell_type": "markdown",
   "metadata": {},
   "source": [
    "## 2.3 - Preprocessing\n",
    "\n",
    "Preprocessing is a crucial task in data mining. This task clean and transform the raw data in a format that can better suit data analysis and machine learning techniques. In natural language processing (NLP), *tokenization* and *stemming* are two well known preprocessing steps. Besides these two steps, we will implement an additional step that is designed exclusively for the twitter domain.\n",
    "\n",
    "### 2.3.1 - Tokenization\n",
    "\n",
    "In this preprocessing step, a *tokenizer* is responsible for breaking a text in a sequence of tokens (words, symbols, and punctuations). For instance, the sentence *\"It's the student's notebook.\"* can be split into the following list of tokens: ['It', \"'s\", 'the', 'student', \"'s\", 'notebook', '.'].\n",
    "\n",
    "\n",
    "#### 2.3.1.1 - Question 1 (0.5 point) \n",
    "\n",
    "Implement the SpaceTokenizer and NLTKTokenizer tokenizers: \n",
    "- **SpaceTokenizer** tokenizes the tokens that are separated by whitespace (space, tab, newline). This is a naive tokenizer.\n",
    "- **NLTKTokenizer** uses the default method of the nltk package (https://www.nltk.org/api/nltk.html) to tokenize the text.\n",
    "\n",
    "**All tokenizers have to lowercase the tokens.**"
   ]
  },
  {
   "cell_type": "code",
   "execution_count": 3,
   "metadata": {},
   "outputs": [],
   "source": [
    "class SpaceTokenizer(object):\n",
    "    \"\"\"\n",
    "    It tokenizes the tokens that are separated by whitespace (space, tab, newline). \n",
    "    We consider that any tokenization was applied in the text when we use this tokenizer.\n",
    "    \n",
    "    For example: \"hello\\tworld of\\nNLP\" is split in ['hello', 'world', 'of', 'NLP']\n",
    "    \"\"\"\n",
    "    \n",
    "    def tokenize(self, text):\n",
    "        try:\n",
    "            tokens = text.split()\n",
    "        except:\n",
    "            raise NotImplementedError(\"space tokenize error\")\n",
    "        return tokens\n",
    "        \n",
    "class NLTKTokenizer(object):\n",
    "    \"\"\"\n",
    "    This tokenizer uses the default function of nltk package (https://www.nltk.org/api/nltk.html) to tokenize the text.\n",
    "    \"\"\"\n",
    "    \n",
    "    def tokenize(self, text):\n",
    "        try:\n",
    "            tokens = nltk.word_tokenize(text)\n",
    "        except:\n",
    "            raise NotImplementedError(\"nltk tokenize error\")\n",
    "        \n",
    "        # Have to return a list of tokens\n",
    "        return tokens"
   ]
  },
  {
   "cell_type": "code",
   "execution_count": 4,
   "metadata": {},
   "outputs": [
    {
     "name": "stdout",
     "output_type": "stream",
     "text": [
      "['je', 'suis', 'pas', 'bo']\n",
      "['je', 'suis', 'pas', 'bo']\n"
     ]
    }
   ],
   "source": [
    "tk = NLTKTokenizer()\n",
    "print(tk.tokenize(\"je suis pas bo\"))\n",
    "tk = SpaceTokenizer()\n",
    "print(tk.tokenize(\"je suis pas bo\"))"
   ]
  },
  {
   "cell_type": "markdown",
   "metadata": {},
   "source": [
    "### 2.3.2 - Stemming\n",
    "\n",
    "In the tweets *\"I should have bought a new shoes today\"* and *\"I spent too much money buying games\"*, the words *\"buy\"* and *\"bought\"* represent basically the same concept. Considering both words as different can unnecessarily increase the dimensionality of the problem and can negatively impact the performance of simple models. Therefore, a unique form (e.g., the root buy) can represent both words. The process to convert words with the same stem (word reduction that keeps word prefixes) to a standard form is called *stemming*.\n",
    "\n",
    "#### 2.3.2.1 - Question 2 (0.5 point) \n",
    "\n",
    "Retrieve the stems of the tokens using the attribute *stemmer* from the class *Stemmer*."
   ]
  },
  {
   "cell_type": "code",
   "execution_count": 5,
   "metadata": {},
   "outputs": [],
   "source": [
    "from nltk.stem.snowball import SnowballStemmer\n",
    "\n",
    "class Stemmer(object):\n",
    "    \n",
    "    def __init__(self):\n",
    "        self.stemmer = SnowballStemmer(\"english\", ignore_stopwords=True)\n",
    "    \n",
    "    def stem(self, tokens):\n",
    "        \"\"\"\n",
    "        tokens: a list of strings\n",
    "        \"\"\"\n",
    "        try:\n",
    "            tokens = [self.stemmer.stem(token) for token in tokens]\n",
    "        except:\n",
    "            raise NotImplementedError(\"\")\n",
    "        \n",
    "        return tokens"
   ]
  },
  {
   "cell_type": "code",
   "execution_count": 6,
   "metadata": {},
   "outputs": [
    {
     "name": "stdout",
     "output_type": "stream",
     "text": [
      "['buy', 'bought', 'run', 'was', 'report', 'generous']\n"
     ]
    }
   ],
   "source": [
    "st = Stemmer().stemmer\n",
    "words = ['buying', 'bought', 'running', 'was', 'reported','generously']\n",
    "output = [st.stem(word) for word in words]\n",
    "print(output)"
   ]
  },
  {
   "cell_type": "markdown",
   "metadata": {},
   "source": [
    "### 2.3.3 - Twitter preprocessing\n",
    "\n",
    "Sometimes only applying the default NLP preprocessing steps is not enough. Data for certain domains can have peculiar characteristics which requires specific preprocessing steps to remove the noise and create a more suitable format for the models. \n",
    "\n",
    "In NLP, methods store a set of words, called dictionary, and all the words out of the dictionary are considered as unknown. In this assignment, the feature space dimensionality of a model is directly related to the number of words in the dictionary. Since high-dimensional spaces can suffer from the curse of dimensionality, our goal is to create preprocessing steps that decrease vocabulary size.  \n",
    "\n",
    "#### 2.3.3.1 - Question 3 (2.0 points)\n",
    "\n",
    "Briefly explain and implement at least two preprocessing steps that reduce the dictionary size (number of unique words). These preprocessing steps must be related to the specific characteristic of the Twitter data. Therefore, for instance, the stop words removal will not be accepted as a preprocessing step."
   ]
  },
  {
   "cell_type": "code",
   "execution_count": 7,
   "metadata": {},
   "outputs": [],
   "source": [
    "import re\n",
    "class TwitterPreprocessing(object):\n",
    "    \n",
    "    def preprocess(self, tweet):\n",
    "        \"\"\"\n",
    "        tweet: original tweet\n",
    "        \"\"\"\n",
    "        try:\n",
    "            if tweet == \"Not Available\":\n",
    "                return tweet\n",
    "            # on retire les mots qui commencent par des @ (tags) et http (liens)\n",
    "            tweet = re.sub(\"(http|@)[^ \\t\\n\\r]*([\\s]|$)\", \"\", tweet)\n",
    "            # on retire les #\n",
    "            tweet = re.sub(\"#\", \"\", tweet)\n",
    "            # on remplace les chiffres par des espaces\n",
    "            tweet = re.sub(\"[0-9]\", \" \", tweet)\n",
    "            \n",
    "        except:\n",
    "            raise NotImplementedError(\"\")\n",
    "    \n",
    "        # return the preprocessed twitter\n",
    "        return tweet"
   ]
  },
  {
   "cell_type": "code",
   "execution_count": 8,
   "metadata": {},
   "outputs": [
    {
     "name": "stdout",
     "output_type": "stream",
     "text": [
      "coucou gregoire hello  \n"
     ]
    }
   ],
   "source": [
    "prepro = TwitterPreprocessing()\n",
    "print(prepro.preprocess(\"@juju #coucou https://moodle.polymtl.ca gregoire hello2 @coucou https://moodle.polymtl.ca\"))"
   ]
  },
  {
   "cell_type": "markdown",
   "metadata": {},
   "source": [
    "### 2.3.3  Pipeline\n",
    "\n",
    "The pipeline is sequence of preprocessing steps that transform the raw data to a format that is suitable for your problem. We implement the class *PreprocessingPipeline* that apply the tokenizer, twitter preprocessing and stemer to the text.\n",
    "\n",
    "**Feel free to change the preprocessing order.**"
   ]
  },
  {
   "cell_type": "code",
   "execution_count": 16,
   "metadata": {},
   "outputs": [],
   "source": [
    "class PreprocessingPipeline:\n",
    "    \n",
    "    def __init__(self, tokenization, twitterPreprocessing, stemming):\n",
    "        \"\"\"\n",
    "        tokenization: enable or disable tokenization.\n",
    "        twitterPreprocessing: enable or disable twitter preprocessing.\n",
    "        stemming: enable or disable stemming.\n",
    "        \"\"\"\n",
    "\n",
    "        self.tokenizer= NLTKTokenizer() if tokenization else SpaceTokenizer()\n",
    "        self.twitterPreprocesser = TwitterPreprocessing() if twitterPreprocessing else None\n",
    "        self.stemmer = Stemmer() if stemming else None\n",
    "    \n",
    "    def preprocess(self, tweet):\n",
    "        \"\"\"\n",
    "        Transform the raw data\n",
    "\n",
    "        tokenization: boolean value.\n",
    "        twitterPreprocessing: boolean value. Apply the\n",
    "        stemming: boolean value.\n",
    "        \"\"\"\n",
    "        if self.twitterPreprocesser:\n",
    "            tweet = self.twitterPreprocesser.preprocess(tweet)\n",
    "        \n",
    "        tokens = self.tokenizer.tokenize(tweet)\n",
    "\n",
    "        if self.stemmer:\n",
    "            tokens = self.stemmer.stem(tokens)\n",
    "            \n",
    "        \n",
    "\n",
    "        return tokens"
   ]
  },
  {
   "cell_type": "code",
   "execution_count": 17,
   "metadata": {},
   "outputs": [],
   "source": [
    "pre_process_pipe = PreprocessingPipeline(True, True, True)"
   ]
  },
  {
   "cell_type": "markdown",
   "metadata": {},
   "source": [
    "## 2.4 N-grams\n",
    "\n",
    "An n-gram is a contiguous sequence of *n* tokens from a text. Thus, for instance,the sequence *\"bye as\"* and *\"walked through\"* are example of 2-grams from the sentence *\"He said bye as he walked through the door .\"*. 1-gram, 2-gram and 3-gram are, respectively, called unigram, bigram and trigram. We list all the possible unigram, bigram and trigram from the *\"He said bye as he walked through the door .\"*:\n",
    "\n",
    "- Unigram: [\"He\", \"said\", \"bye\", \"as\", \"he\", \"walked\", \"through\", \"the\", \"door\", \".\"]\n",
    "- Bigram: [\"He said\", \"said bye\", \"bye as\", \"as he\", \"he walked\", \"walked through\", \"through the\", \"the door\", \"door .\"] \n",
    "- Trigram: [\"He said bye\", \"said bye as\", \"bye as he\", \"as he walked\", \"he walked through\", \"walked through the\", \"through the door\", \"the door .\"] \n",
    "\n",
    "\n",
    "### 2.4.1 - Question 4 (1 point)\n",
    "\n",
    "Implement bigram and trigram.\n",
    "\n",
    "**For this exercise, you cannot use any external python library (e.g., scikit-learn).**"
   ]
  },
  {
   "cell_type": "code",
   "execution_count": 18,
   "metadata": {},
   "outputs": [],
   "source": [
    "def bigram(tokens):\n",
    "    \"\"\"\n",
    "    tokens: a list of strings\n",
    "    \"\"\"\n",
    "    len_tokens = len(tokens)\n",
    "    bigram = []\n",
    "    i = 0\n",
    "    while i < len_tokens - 1:\n",
    "        bigram.append(tokens[i] + ' ' + tokens[i + 1])\n",
    "        i+=1\n",
    "    return bigram\n",
    "        \n",
    "    \n",
    "def trigram(tokens):\n",
    "    \"\"\"\n",
    "    tokens: a list of strings\n",
    "    \"\"\"\n",
    "    len_tokens = len(tokens)\n",
    "    trigram = []\n",
    "    i = 0\n",
    "    while i < len_tokens - 2:\n",
    "        trigram.append(tokens[i] + ' ' + tokens[i + 1] + ' ' + tokens[i + 2])\n",
    "        i+=1\n",
    "    return trigram"
   ]
  },
  {
   "cell_type": "code",
   "execution_count": 19,
   "metadata": {},
   "outputs": [
    {
     "name": "stdout",
     "output_type": "stream",
     "text": [
      "['coucou la', 'la compagnie', 'compagnie !']\n",
      "['coucou la compagnie', 'la compagnie !']\n"
     ]
    }
   ],
   "source": [
    "print(bigram(['coucou', 'la', 'compagnie', '!']))\n",
    "print(trigram(['coucou', 'la', 'compagnie', '!']))"
   ]
  },
  {
   "cell_type": "markdown",
   "metadata": {},
   "source": [
    "## 2.5 Bag-of-words\n",
    "\n",
    "Logistic regression, SVM and other well-known models only accept inputs that have the same size. However, there are some data types whose sizes are not fixed, for instance, a text can have an unlimited number of words. Imagine that we retrieve two tweets: ”Board games are much better than video games” and ”Pandemic is an awesome game!”. These sentences are respectively named as Sentence 1 and 2. Table below depicts how we could represent both sentences using a fixed representation.\n",
    "\n",
    "|            | an | are | ! | pandemic | awesome | better | games | than | video | much | board | is | game |\n",
    "|------------|----|-----|---|----------|---------|--------|-------|------|-------|------|-------|----|------|\n",
    "| Sentence 1 | 0  | 1   | 0 | 0        | 0       | 1      | 2     | 1    | 1     | 1    | 1     | 0  | 0    |\n",
    "| Sentence 2 | 1  | 0   | 0 | 1        | 1       | 0      | 0     | 0    | 0     | 0    | 0     | 1  | 1    |\n",
    "\n",
    "Each column of this table 2.1 represents one of 13 vocabulary words, whereas the rows contains the word\n",
    "frequencies in each sentence. For instance, the cell in row 1 and column 7 has the value 2\n",
    "because the word games occurs twice in Sentence 1. Since the rows have always 13 values, we\n",
    "could use those vectors to represent the Sentences 1 and 2. The table above illustrates a technique called bag-of-words. Bag-of-words represents a document as a vector whose dimensions are equal to the number of times that vocabulary words appeared in the document. Thus, each token will be related to a dimension, i.e., an integer.\n",
    "\n",
    "### 2.5.1 - Question 5 (2 points)\n",
    "\n",
    "Implement the bag-of-words model that weights the vector with the absolute word frequency.\n",
    "\n",
    "**For this exercise, you cannot use any external python library (e.g., scikit-learn). However, if you have a problem with memory size, you can use the class scipy.sparse.csr_matrix (https://docs.scipy.org/doc/scipy/reference/generated/scipy.sparse.csc_matrix.html)\n",
    "**"
   ]
  },
  {
   "cell_type": "code",
   "execution_count": 20,
   "metadata": {},
   "outputs": [],
   "source": [
    "from scipy.sparse import csr_matrix\n",
    "from scipy.sparse import lil_matrix\n",
    "from scipy.sparse import csc_matrix\n",
    "import numpy as np\n",
    "\n",
    "def bigram(tokens):\n",
    "    \"\"\"\n",
    "    tokens: a list of strings\n",
    "    \"\"\"\n",
    "    len_tokens = len(tokens)\n",
    "    bigram = []\n",
    "    i = 0\n",
    "    while i < len_tokens - 1:\n",
    "        bigram.append(tokens[i] + ' ' + tokens[i + 1])\n",
    "        i += 1\n",
    "    return bigram\n",
    "\n",
    "\n",
    "def trigram(tokens):\n",
    "    \"\"\"\n",
    "    tokens: a list of strings\n",
    "    \"\"\"\n",
    "    len_tokens = len(tokens)\n",
    "    trigram = []\n",
    "    i = 0\n",
    "    while i < len_tokens - 2:\n",
    "        trigram.append(tokens[i] + ' ' + tokens[i + 1] + ' ' + tokens[i + 2])\n",
    "        i += 1\n",
    "    return trigram\n",
    "\n",
    "class CountBoW(object):\n",
    "\n",
    "    def __init__(self, pipeline, bigram=False, trigram=False):\n",
    "        \"\"\"\n",
    "        pipelineObj: instance of PreprocesingPipeline\n",
    "        bigram: enable or disable bigram\n",
    "        trigram: enable or disable trigram\n",
    "        \"\"\"\n",
    "        self.pipeline = pipeline\n",
    "        self.bigram = bigram\n",
    "        self.trigram = trigram\n",
    "        self.tokens_index = []\n",
    "\n",
    "    def get_tokens_list(self, tokens):\n",
    "        tokens_list = tokens\n",
    "        if self.bigram: tokens_list += bigram(tokens)\n",
    "        if self.trigram: tokens_list += trigram(tokens)\n",
    "        return tokens_list\n",
    "\n",
    "    def fit_transform(self, X):\n",
    "        \"\"\"\n",
    "        This method preprocesses the data using the pipeline object, calculates the IDF and TF and\n",
    "        transforms the text in vectors. Vectors are weighted using TF-IDF method.\n",
    "\n",
    "        X: a list that contains tweet contents\n",
    "\n",
    "        :return: a list that contains the list of integers\n",
    "        \"\"\"\n",
    "        self.tokens_index = []\n",
    "        fited_tweets = [[]]\n",
    "        try:\n",
    "            for x in X:\n",
    "                if x != \"Not Available\":\n",
    "                    tokens = self.pipeline.preprocess(x)\n",
    "                    tokens_list = self.get_tokens_list(tokens)\n",
    "                    new_fited_tweet = [0 for i in range(len(fited_tweets[0]))]\n",
    "                    for token in tokens_list:\n",
    "                        if token in self.tokens_index:\n",
    "                            new_fited_tweet[self.tokens_index.index(token)] += 1\n",
    "                        else:\n",
    "                            for fited_tweet in fited_tweets:\n",
    "                                fited_tweet.append(0)\n",
    "                            new_fited_tweet.append(1)\n",
    "                            self.tokens_index.append(token)\n",
    "                    fited_tweets.append(new_fited_tweet)\n",
    "        except:\n",
    "            raise NotImplementedError(\"\")\n",
    "        return csr_matrix(fited_tweets)[1:]\n",
    "\n",
    "    def transform(self, X):\n",
    "        \"\"\"\n",
    "        This method preprocesses the data using the pipeline object and\n",
    "            transforms the text in a list of integer.\n",
    "\n",
    "        X: a list of vectors\n",
    "\n",
    "        :return: a list of vectors\n",
    "        \"\"\"\n",
    "        fited_tweets = lil_matrix((len(X), len(self.tokens_index)), dtype = \"float\")\n",
    "\n",
    "        try:\n",
    "            index = 0\n",
    "            for x in X:\n",
    "                tokens = self.pipeline.preprocess(x)\n",
    "                tokens_list = self.get_tokens_list(tokens)\n",
    "                for token in tokens_list:\n",
    "                    if token in self.tokens_index:\n",
    "                        fited_tweets[index, self.tokens_index.index(token)] += 1\n",
    "                index += 1\n",
    "\n",
    "        except:\n",
    "            raise NotImplementedError(\"\")\n",
    "\n",
    "        return csr_matrix(fited_tweets)\n"
   ]
  },
  {
   "cell_type": "code",
   "execution_count": 21,
   "metadata": {},
   "outputs": [
    {
     "name": "stdout",
     "output_type": "stream",
     "text": [
      "[[1 1 1 0 0 0 0 0 0 0]\n",
      " [1 0 1 1 0 0 0 0 0 0]\n",
      " [1 1 1 0 1 1 1 1 1 1]]\n"
     ]
    }
   ],
   "source": [
    "cb = CountBoW(pre_process_pipe, False, False)\n",
    "print(cb.fit_transform([\"coucou papa !\", \"coucou maman !\",\"coucou papa ! salut la compagnie ca va ,\"]).toarray())"
   ]
  },
  {
   "cell_type": "code",
   "execution_count": 22,
   "metadata": {},
   "outputs": [
    {
     "name": "stdout",
     "output_type": "stream",
     "text": [
      "[[1. 1. 1. 0. 0. 0. 0. 0. 0. 0.]\n",
      " [1. 0. 1. 1. 0. 0. 0. 0. 0. 0.]\n",
      " [1. 1. 1. 0. 1. 1. 1. 1. 1. 1.]]\n"
     ]
    }
   ],
   "source": [
    "print(cb.transform([\"coucou papa !\", \"coucou maman !\",\"coucou papa ! salut la compagnie ca va ,\"]).toarray())"
   ]
  },
  {
   "cell_type": "markdown",
   "metadata": {},
   "source": [
    "### 2.5.2 - TF-IDF\n",
    "\n",
    "Using raw frequency in the bag-of-words can be problematic. The word frequency distribution\n",
    "is skewed - only a few words have high frequencies in a document. Consequently, the\n",
    "weight of these words will be much bigger than the other ones which can give them more\n",
    "impact on some tasks, like similarity comparison. Besides that, a set of words (including\n",
    "those with high frequency) appears in most of the documents and, therefore, they do not\n",
    "help to discriminate documents. For instance, the word *of* appears in a significant\n",
    "part of tweets. Thus, having the word *of* does not make\n",
    "documents more or less similar. However, the word *terrible* is rarer and documents that\n",
    "have this word are more likely to be negative. TF-IDF is a technique that overcomes the word frequency disadvantages.\n",
    "\n",
    "TF-IDF weights the vector using inverse document frequency (IDF) and word frequency, called term frequency (TF).\n",
    "TF is the local information about how important is a word to a specific document.  IDF measures the discrimination level of the words in a dataset.  Common words in a domain are not helpful to discriminate documents since most of them contain these terms. So, to reduce their relevance in the documents, these words should have low weights in the vectors . \n",
    "The following equation calculates the word IDF:\n",
    "\\begin{equation}\n",
    "\tidf_i = \\log\\left( \\frac{N}{df_i} \\right),\n",
    "\\end{equation}\n",
    "where $N$ is the number of documents in the dataset, $df_i$ is the number of documents that contain a word $i$.\n",
    "The new weight $w_{ij}$ of a word $i$ in a document $j$ using TF-IDF is computed as:\n",
    "\\begin{equation}\n",
    "\tw_{ij} = tf_{ij} \\times idf_i,\n",
    "\\end{equation}\n",
    "where $tf_{ij}$ is the term frequency of word $i$ in the document $j$.\n",
    "\n",
    "\n",
    "\n",
    "\n",
    "### 2.5.2.1 - Question 6 (3 points)\n",
    "\n",
    "Implement a bag-of-words model that weights the vector using TF-IDF.\n",
    "\n",
    "**For this exercise, you cannot use any external python library (e.g., scikit-learn). However, if you have a problem with memory size, you can use the class scipy.sparse.csr_matrix (https://docs.scipy.org/doc/scipy/reference/generated/scipy.sparse.csc_matrix.html)**"
   ]
  },
  {
   "cell_type": "code",
   "execution_count": 23,
   "metadata": {},
   "outputs": [],
   "source": [
    "class TFIDFBoW(CountBoW):\n",
    "\n",
    "    def __init__(self, pipeline, bigram=False, trigram=False):\n",
    "        \"\"\"\n",
    "        pipelineObj: instance of PreprocesingPipeline\n",
    "        bigram: enable or disable bigram\n",
    "        trigram: enable or disable trigram\n",
    "        \"\"\"\n",
    "        self.pipeline = pipeline\n",
    "        self.bigram = bigram\n",
    "        self.trigram = trigram\n",
    "        self.count_bow = CountBoW(pipeline, False, False)\n",
    "        self.idf = []\n",
    "        self.tokens_index = []\n",
    "\n",
    "    def get_idf(self, bow_matrix):\n",
    "        \"\"\"\n",
    "        this methode return the idf of the set of tokens\n",
    "\n",
    "        bow_matrix: the matrix of the raw frequency\n",
    "        :return: a list of the idf by index\n",
    "        \"\"\"\n",
    "\n",
    "        idf = []\n",
    "        for i in range(len(self.tokens_index)):\n",
    "            dfi = 0\n",
    "            for j in range(bow_matrix.shape[0]):\n",
    "                # on compte le nombre de documents qui contiennent ce mot\n",
    "                dfi += 1 if bow_matrix[j, i] != 0 else 0\n",
    "            # on calcul et ajoute le idf a la liste des idf\n",
    "            idf.append(math.log(bow_matrix.shape[0] / dfi))\n",
    "        return idf\n",
    "\n",
    "    def get_weighted_matrix(self, bow_matrix, save_idf = False):\n",
    "        \"\"\"\n",
    "        this methode return the new matrix by tf-idf\n",
    "\n",
    "        bow_matrix: the matrix of the raw frequency\n",
    "        :return: the new matrix weigted\n",
    "        \"\"\"\n",
    "        idf = self.get_idf(bow_matrix) if save_idf else self.idf\n",
    "        if save_idf: self.idf = idf\n",
    "        for j in range(bow_matrix.shape[0]):\n",
    "            for i in range(len(self.tokens_index)):\n",
    "                value = bow_matrix[j, i] * idf[i]\n",
    "                bow_matrix[j, i] = value\n",
    "        return bow_matrix\n",
    "\n",
    "    def fit_transform(self, X):\n",
    "        \"\"\"\n",
    "        This method preprocesses the data using the pipeline object, calculates the IDF and TF and\n",
    "        transforms the text in vectors. Vectors are weighted using TF-IDF method.\n",
    "\n",
    "        X: a list that contains tweet contents\n",
    "\n",
    "        :return: a list that contains the list of integers\n",
    "        \"\"\"\n",
    "        self.tokens_index = []\n",
    "        fited_tweets = [[]]\n",
    "        try:\n",
    "            for x in X:\n",
    "                if x != \"Not Available\":\n",
    "                    tokens = self.pipeline.preprocess(x)\n",
    "                    tokens_list = self.get_tokens_list(tokens)\n",
    "                    new_fited_tweet = [0 for i in range(len(fited_tweets[0]))]\n",
    "                    for token in tokens_list:\n",
    "                        if token in self.tokens_index:\n",
    "                            new_fited_tweet[self.tokens_index.index(token)] += 1\n",
    "                        else:\n",
    "                            for fited_tweet in fited_tweets:\n",
    "                                fited_tweet.append(0)\n",
    "                            new_fited_tweet.append(1)\n",
    "                            self.tokens_index.append(token)\n",
    "                    fited_tweets.append(new_fited_tweet)\n",
    "        except:\n",
    "            raise NotImplementedError(\"\")\n",
    "\n",
    "        return csr_matrix(self.get_weighted_matrix(lil_matrix(fited_tweets[1:], dtype = \"float\"), True))\n",
    "\n",
    "    def transform(self, X):\n",
    "        \"\"\"\n",
    "        This method preprocesses the data using the pipeline object and\n",
    "            transforms the text in a list of integer.\n",
    "\n",
    "        X: a list of vectors\n",
    "\n",
    "        :return: a list of vectors\n",
    "        \"\"\"\n",
    "        fited_tweets = lil_matrix((len(X), len(self.tokens_index)), dtype = \"float\")\n",
    "\n",
    "        try:\n",
    "            index = 0\n",
    "            for x in X:\n",
    "                tokens = self.pipeline.preprocess(x)\n",
    "                tokens_list = self.get_tokens_list(tokens)\n",
    "                for token in tokens_list:\n",
    "                    if token in self.tokens_index:\n",
    "                        fited_tweets[index, self.tokens_index.index(token)] += 1\n",
    "                index += 1\n",
    "\n",
    "        except:\n",
    "            raise NotImplementedError(\"\")\n",
    "\n",
    "        return csr_matrix(self.get_weighted_matrix(fited_tweets))"
   ]
  },
  {
   "cell_type": "code",
   "execution_count": 24,
   "metadata": {},
   "outputs": [
    {
     "name": "stdout",
     "output_type": "stream",
     "text": [
      "[[0.         0.40546511 0.         0.40546511 0.40546511 0.40546511\n",
      "  1.09861229 1.09861229 0.         0.         0.         0.\n",
      "  0.         0.         0.         0.         0.         0.\n",
      "  0.         0.         0.         0.         0.         0.\n",
      "  0.         0.         0.         0.         0.         0.\n",
      "  0.         0.         0.         0.         0.         0.\n",
      "  0.         0.         0.         0.        ]\n",
      " [0.         0.         0.         0.         0.         0.\n",
      "  0.         0.         1.09861229 1.09861229 1.09861229 1.09861229\n",
      "  1.09861229 1.09861229 0.         0.         0.         0.\n",
      "  0.         0.         0.         0.         0.         0.\n",
      "  0.         0.         0.         0.         0.         0.\n",
      "  0.         0.         0.         0.         0.         0.\n",
      "  0.         0.         0.         0.        ]\n",
      " [0.         0.40546511 0.         0.40546511 0.40546511 0.40546511\n",
      "  0.         0.         0.         0.         0.         0.\n",
      "  0.         0.         1.09861229 1.09861229 1.09861229 1.09861229\n",
      "  1.09861229 1.09861229 1.09861229 1.09861229 1.09861229 1.09861229\n",
      "  1.09861229 1.09861229 1.09861229 1.09861229 1.09861229 1.09861229\n",
      "  1.09861229 1.09861229 1.09861229 1.09861229 1.09861229 1.09861229\n",
      "  1.09861229 1.09861229 1.09861229 1.09861229]]\n",
      "[[0.         0.40546511 0.         0.40546511 0.40546511 0.40546511\n",
      "  1.09861229 1.09861229 0.         0.         0.         0.\n",
      "  0.         0.         0.         0.         0.         0.\n",
      "  0.         0.         0.         0.         0.         0.\n",
      "  0.         0.         0.         0.         0.         0.\n",
      "  0.         0.         0.         0.         0.         0.\n",
      "  0.         0.         0.         0.        ]\n",
      " [0.         0.         0.         0.         0.         0.\n",
      "  0.         0.         1.09861229 1.09861229 1.09861229 1.09861229\n",
      "  1.09861229 1.09861229 0.         0.         0.         0.\n",
      "  0.         0.         0.         0.         0.         0.\n",
      "  0.         0.         0.         0.         0.         0.\n",
      "  0.         0.         0.         0.         0.         0.\n",
      "  0.         0.         0.         0.        ]\n",
      " [0.         0.40546511 0.         0.40546511 0.40546511 0.40546511\n",
      "  0.         0.         0.         0.         0.         0.\n",
      "  0.         0.         1.09861229 1.09861229 1.09861229 1.09861229\n",
      "  1.09861229 1.09861229 1.09861229 1.09861229 1.09861229 1.09861229\n",
      "  1.09861229 1.09861229 1.09861229 1.09861229 1.09861229 1.09861229\n",
      "  1.09861229 1.09861229 1.09861229 1.09861229 1.09861229 1.09861229\n",
      "  1.09861229 1.09861229 1.09861229 1.09861229]]\n"
     ]
    }
   ],
   "source": [
    "cb = TFIDFBoW(pre_process_pipe, True, True)\n",
    "print(cb.fit_transform([\"coucou papa !\", \"coucou maman !\",\"coucou papa ! salut la compagnie ca va ?\"]).toarray())\n",
    "print(cb.transform([\"coucou papa !\", \"coucou maman !\",\"coucou papa ! salut la compagnie ca va ?\"]).toarray())"
   ]
  },
  {
   "cell_type": "markdown",
   "metadata": {},
   "source": [
    "## 2.6 - Classifier using BoW\n",
    "\n",
    "We are going to use logistic regression as a classifier. Read the following page to now more about this classifier: https://scikit-learn.org/stable/modules/generated/sklearn.linear_model.LogisticRegression.html\n",
    "\n",
    "\n",
    "The method *train_evaluate* trains and evaluates the logistic regression model."
   ]
  },
  {
   "cell_type": "code",
   "execution_count": 25,
   "metadata": {},
   "outputs": [],
   "source": [
    "import time\n",
    "import numpy as np\n",
    "from sklearn.metrics import accuracy_score\n",
    "from sklearn.linear_model import LogisticRegression\n",
    "\n",
    "def train_evaluate(training_X, training_Y, validation_X, validation_Y, bowObj):\n",
    "    \"\"\"\n",
    "    training_X: tweets from the training dataset\n",
    "    training_Y: tweet labels from the training dataset\n",
    "    validation_X: tweets from the validation dataset\n",
    "    validation_Y: tweet labels from the validation dataset\n",
    "\n",
    "    bowObj: Bag-of-word object\n",
    "\n",
    "    :return: the classifier and its accuracy in the training and validation dataset.\n",
    "    \"\"\"\n",
    "\n",
    "    classifier = LogisticRegression(solver='liblinear', multi_class='auto')\n",
    "\n",
    "    debut_fit_trans = time.time()\n",
    "    training_rep = bowObj.fit_transform(training_X)\n",
    "    fin_fit_trans = time.time() - debut_fit_trans\n",
    "\n",
    "    print(\"     taille dico: \" + str(training_rep.shape[1]) + \" nb tweet: \" + str(training_rep.shape[0]))\n",
    "\n",
    "    debut_train = time.time()\n",
    "    classifier.fit(training_rep, training_Y)\n",
    "    fin_train = time.time() - debut_train\n",
    "\n",
    "    trainAcc = accuracy_score(training_Y, classifier.predict(training_rep))\n",
    "\n",
    "    debut_valid = time.time()\n",
    "    validationAcc = accuracy_score(validation_Y, classifier.predict(bowObj.transform(validation_X)))\n",
    "    fin_valid = time.time() - debut_valid\n",
    "\n",
    "    print(\"     temps: fit_trans: {}s training: {}s validation: {}s\".format(fin_fit_trans, fin_train, fin_valid))\n",
    "\n",
    "    return classifier, trainAcc, validationAcc"
   ]
  },
  {
   "cell_type": "code",
   "execution_count": null,
   "metadata": {
    "scrolled": false
   },
   "outputs": [],
   "source": []
  },
  {
   "cell_type": "markdown",
   "metadata": {},
   "source": [
    "\n",
    "### 2.6.1 - Question 7 (4 points)\n",
    "\n",
    "Train and calculate the logistic regression accuracy in the *training and validation dataset* using each one of the following configurations:\n",
    "    1. CountBoW + SpaceTokenizer(without tokenizer) + unigram \n",
    "    2. CountBoW + NLTKTokenizer + unigram\n",
    "    3. TFIDFBoW + NLTKTokenizer + unigram\n",
    "    3. TFIDFBoW + NLTKTokenizer + Stemming + unigram\n",
    "    4. TFIDFBoW + NLTKTokenizer + Twitter preprocessing + Stemming  + unigram\n",
    "    5. TFIDFBoW + NLTKTokenizer + Twitter preprocessing + Stemming  + unigram + bigram\n",
    "    6. TFIDFBoW + NLTKTokenizer + Twitter preprocessing + Stemming  + unigram + bigram + trigram\n",
    "Besides the accuracy, you have to report the dictionary size for each one of configurations. Finally, describe the results found by you and answer the following questions:\n",
    "- Which preprocessing has helped the model? Why?\n",
    "- TF-IDF has achieved a better performance than CountBoW? If yes, why do you think that this has occurred? \n",
    "- Has the bigram and trigram improved the performance? If yes, can you mention the reasons of this improvement?"
   ]
  },
  {
   "cell_type": "code",
   "execution_count": 19,
   "metadata": {},
   "outputs": [
    {
     "name": "stdout",
     "output_type": "stream",
     "text": [
      "\n",
      "CountBoW + SpaceTokenizer(without tokenizer) + unigram ----\n",
      "\n",
      "     taille dico: 32157 nb tweet: 6817\n",
      "     temps: fit_trans: 100.90795469284058s training: 0.8950085639953613s validation: 7.872109413146973s\n",
      "\n",
      "     trainAcc: 0.9950124688279302\n",
      "     validationAcc: 0.5948808473080318\n",
      "\n",
      "CountBoW + NLTKTokenizer + unigram ----\n",
      "\n",
      "     taille dico: 24129 nb tweet: 6817\n",
      "     temps: fit_trans: 77.14071869850159s training: 1.7030854225158691s validation: 6.267057657241821s\n",
      "\n",
      "     trainAcc: 0.9901716297491565\n",
      "     validationAcc: 0.6275375110326566\n",
      "\n",
      "TFIDFBoW + NLTKTokenizer + unigram ----\n",
      "\n",
      "     taille dico: 24129 nb tweet: 6817\n",
      "     temps: fit_trans: 5259.571048498154s training: 0.9368889331817627s validation: 276.48303294181824s\n",
      "\n",
      "     trainAcc: 0.9992665395335192\n",
      "     validationAcc: 0.6240070609002648\n",
      "\n",
      "TFIDFBoW + NLTKTokenizer + Stemming + unigram ----\n",
      "\n",
      "     taille dico: 17665 nb tweet: 6817\n",
      "     temps: fit_trans: 1834.4808082580566s training: 0.7909231185913086s validation: 191.04157137870789s\n",
      "\n",
      "     trainAcc: 0.9992665395335192\n",
      "     validationAcc: 0.6354810238305384\n",
      "\n",
      "TFIDFBoW + NLTKTokenizer + Twitter preprocessing + Stemming  + unigram ----\n",
      "\n",
      "     taille dico: 12483 nb tweet: 6817\n",
      "     temps: fit_trans: 890.0860733985901s training: 0.4886910915374756s validation: 88.12535214424133s\n",
      "\n",
      "     trainAcc: 0.9989731553469268\n",
      "     validationAcc: 0.6293027360988526\n",
      "\n",
      "TFIDFBoW + NLTKTokenizer + Twitter preprocessing + Stemming  + unigram + bigram ----\n",
      "\n",
      "     taille dico: 85453 nb tweet: 6817\n",
      "     temps: fit_trans: 5854.18527340889s training: 3.3354804515838623s validation: 628.4640533924103s\n",
      "\n",
      "     trainAcc: 0.9992665395335192\n",
      "     validationAcc: 0.6381288614298323\n",
      "\n",
      "TFIDFBoW + NLTKTokenizer + Twitter preprocessing + Stemming  + unigram + bigram + trigram ----\n",
      "\n",
      "     not enough memory for this one\n"
     ]
    }
   ],
   "source": [
    "from sklearn.metrics import accuracy_score\n",
    "from sklearn.linear_model import LogisticRegression\n",
    "\n",
    "def custom_evaluate(training_X, training_Y, validation_X, validation_Y, options):\n",
    "    \"\"\"\n",
    "        training_X: tweets from the training dataset\n",
    "        training_Y: tweet labels from the training dataset\n",
    "        validation_X: tweets from the validation dataset\n",
    "        validation_Y: tweet labels from the validation dataset\n",
    "        options: options on the programme\n",
    "\n",
    "        :return: the classifier and its accuracy in the training and validation dataset.\n",
    "        \"\"\"\n",
    "    pre_process_pipe = PreprocessingPipeline(options[\"tokenisation\"],\n",
    "                                             options[\"preprocess\"],\n",
    "                                             options[\"stemming\"])\n",
    "    if options[\"Bow_methode\"] == \"CountBow\":\n",
    "        bow = CountBoW(pre_process_pipe, options[\"bigram\"], options[\"trigram\"])\n",
    "    else:\n",
    "        bow = TFIDFBoW(pre_process_pipe, options[\"bigram\"], options[\"trigram\"])\n",
    "\n",
    "    classifier = LogisticRegression(solver='liblinear', multi_class='auto')\n",
    "\n",
    "    debut_fit_trans = time.time()\n",
    "    training_rep = bow.fit_transform(training_X)\n",
    "    fin_fit_trans = time.time() - debut_fit_trans\n",
    "\n",
    "    print(\"     taille dico: \" + str(training_rep.shape[1]) + \" nb tweet: \" + str(training_rep.shape[0]))\n",
    "\n",
    "    debut_train = time.time()\n",
    "    classifier.fit(training_rep, training_Y)\n",
    "    fin_train = time.time() - debut_train\n",
    "\n",
    "    trainAcc = accuracy_score(training_Y, classifier.predict(training_rep))\n",
    "\n",
    "    debut_valid = time.time()\n",
    "    validationAcc = accuracy_score(validation_Y, classifier.predict(bow.transform(validation_X)))\n",
    "    fin_valid = time.time() - debut_valid\n",
    "\n",
    "    print(\"     temps: fit_trans: {}s training: {}s validation: {}s\".format(fin_fit_trans, fin_train, fin_valid))\n",
    "\n",
    "    return classifier, trainAcc, validationAcc\n",
    "\n",
    "def test_model(ls_options):\n",
    "\n",
    "    for option in ls_options:\n",
    "        try:\n",
    "            print(\"\\n\" + option[\"name\"] + \" ----\\n\")\n",
    "            _, trainAcc, validationAcc = custom_evaluate(training_X, training_Y, validation_X, validation_Y, option)\n",
    "            print(\"\\n     trainAcc: \" + str(trainAcc))\n",
    "            print(\"     validationAcc: \" + str(validationAcc))\n",
    "\n",
    "        except MemoryError:\n",
    "            print(\"     not enough memory for this one\")\n",
    "\n",
    "\n",
    "if __name__ == \"__main__\":\n",
    "\n",
    "    # Path of training dataset\n",
    "    trainingPath = \"./train_data_full.tsv\"\n",
    "\n",
    "    # Path of validation dataset\n",
    "    validationPath = \"./dev_data_full.tsv\"\n",
    "\n",
    "    training_X, training_Y = load_dataset(trainingPath)\n",
    "    validation_X, validation_Y = load_dataset(validationPath)\n",
    "\n",
    "    test_model([\n",
    "        {\n",
    "            \"name\": \"CountBoW + SpaceTokenizer(without tokenizer) + unigram\",\n",
    "            \"Bow_methode\": \"CountBow\",\n",
    "            \"tokenisation\": False,\n",
    "            \"preprocess\": False,\n",
    "            \"stemming\": False,\n",
    "            \"bigram\": False,\n",
    "            \"trigram\": False\n",
    "        },\n",
    "        {\n",
    "            \"name\": \"CountBoW + NLTKTokenizer + unigram\",\n",
    "            \"Bow_methode\": \"CountBow\",\n",
    "            \"tokenisation\": True,\n",
    "            \"preprocess\": False,\n",
    "            \"stemming\": False,\n",
    "            \"bigram\": False,\n",
    "            \"trigram\": False\n",
    "        },\n",
    "        {\n",
    "            \"name\": \"TFIDFBoW + NLTKTokenizer + unigram\",\n",
    "            \"Bow_methode\": \"TFIDFBoW\",\n",
    "            \"tokenisation\": True,\n",
    "            \"preprocess\": False,\n",
    "            \"stemming\": False,\n",
    "            \"bigram\": False,\n",
    "            \"trigram\": False\n",
    "        },\n",
    "        {\n",
    "            \"name\": \"TFIDFBoW + NLTKTokenizer + Stemming + unigram\",\n",
    "            \"Bow_methode\": \"TFIDFBoW\",\n",
    "            \"tokenisation\": True,\n",
    "            \"preprocess\": False,\n",
    "            \"stemming\": True,\n",
    "            \"bigram\": False,\n",
    "            \"trigram\": False\n",
    "        },\n",
    "        {\n",
    "            \"name\": \"TFIDFBoW + NLTKTokenizer + Twitter preprocessing + Stemming  + unigram\",\n",
    "            \"Bow_methode\": \"TFIDFBoW\",\n",
    "            \"tokenisation\": True,\n",
    "            \"preprocess\": True,\n",
    "            \"stemming\": True,\n",
    "            \"bigram\": False,\n",
    "            \"trigram\": False\n",
    "        },\n",
    "        {\n",
    "            \"name\": \"TFIDFBoW + NLTKTokenizer + Twitter preprocessing + Stemming  + unigram + bigram\",\n",
    "            \"Bow_methode\": \"TFIDFBoW\",\n",
    "            \"tokenisation\": True,\n",
    "            \"preprocess\": True,\n",
    "            \"stemming\": True,\n",
    "            \"bigram\": True,\n",
    "            \"trigram\": False\n",
    "        },\n",
    "        {\n",
    "            \"name\": \"TFIDFBoW + NLTKTokenizer + Twitter preprocessing + Stemming  + unigram + bigram + trigram\",\n",
    "            \"Bow_methode\": \"TFIDFBoW\",\n",
    "            \"tokenisation\": True,\n",
    "            \"preprocess\": True,\n",
    "            \"stemming\": True,\n",
    "            \"bigram\": True,\n",
    "            \"trigram\": True\n",
    "        },\n",
    "    ])"
   ]
  },
  {
   "cell_type": "raw",
   "metadata": {},
   "source": [
    "\n",
    "    Which preprocessing has helped the model? Why?\n",
    "    \n",
    "    \"Stemming\" et \"Twitter preprocessing\" réduisent grandement le temps d'exécution du programme sans réduire la performance. Ce sont donc des procédés intéressant en particulier lorsqu'on travaille sur de nombreuse données. En effet, ces procédés réduisent la taille du dictionnaire. L'impact sur la performance est peu élevé.\n",
    "    \n",
    "    TF-IDF has achieved a better performance than CountBoW? If yes, why do you think that this has occurred?\n",
    "La performance entre TF-IDF et CountBoW est faible. Il s'agit de deux représentations différentes des données. Ce manque de différence est peut-être du au fait que les poids associé au mot courant tel que \"of\" seront très faible et donc l'IDF n'a que peu d'impact. En plus le TF-IDF prends plus de temps que CountBow.    \n",
    "\n",
    "    Has the bigram and trigram improved the performance? If yes, can you mention the reasons of this improvement?\n",
    "    Bigram et trigram ont un faible impact sur la performance. Peut-être car les bigram et trigram les plus fréquent seront certainement des déterminants suivi de noms, ou des adjectifs suivi de noms mais l'émotion du tweet est surtout marqué avec les mots utilisés.\n"
   ]
  },
  {
   "cell_type": "markdown",
   "metadata": {},
   "source": [
    "# 3 Prototype (7 points)\n",
    "\n",
    "During the last years, *E Corp* has collected tweets to create a dataset to their sentiment analysis tool. Now, airline companies have contracted *E Corp* to analyze the consumer opinion about them. Your job is to extract information from the tweet database about the following companies: Air France, American, British Airways,  Delta, Southwest, United, Us Airways and Virgin America.\n",
    "\n",
    "*For the prototype, you have to use the best model found in the Section 2.*\n",
    "\n",
    "## 3.1 Dataset\n",
    "\n",
    "In https://drive.google.com/file/d/1Cuw6Y12Bj91vF_iH49mqPZZfJkY92iBY/view?usp=sharing, you can find the raw tweet retrieved by E corp.  Each tweet is represented as json that the have attributes listed in the page https://developer.twitter.com/en/docs/tweets/data-dictionary/overview/tweet-object.\n",
    "\n",
    "** You will answer the question of this section using this tweet database (https://drive.google.com/file/d/1Cuw6Y12Bj91vF_iH49mqPZZfJkY92iBY/view?usp=sharing).**\n",
    "\n",
    "## 3.2 Sentiment Analysis\n",
    "\n",
    "\n",
    "### 3.2.1 Question 8 (0.5 point)\n",
    "\n",
    "Implement the method *extract_tweet_content* that extracts the content of each tweet in the database."
   ]
  },
  {
   "cell_type": "code",
   "execution_count": 26,
   "metadata": {},
   "outputs": [],
   "source": [
    "import json\n",
    "\n",
    "def extract_tweet_content(raw_tweet_file):\n",
    "    \"\"\"\n",
    "    Extract the tweet content for each json object\n",
    "\n",
    "    raw_tweet_file: file path that contains all json objects\n",
    "\n",
    "    :return: a list with the tweet contents\n",
    "    \"\"\"\n",
    "    tweet_list = []\n",
    "    try:\n",
    "        with open(raw_tweet_file, \"r\") as reader:\n",
    "            for line in reader:\n",
    "                json_line = json.loads(line)\n",
    "                tweet_list.append(json_line[\"text\"])\n",
    "    except:\n",
    "        raise NotImplementedError(\"\")\n",
    "    return tweet_list"
   ]
  },
  {
   "cell_type": "markdown",
   "metadata": {},
   "source": [
    "### 3.2.1 Question 9 (1 points)\n",
    "\n",
    "Implement the method *detect_airline* that detects the airline companies in a tweet. Besides that, explain your approach to detect the companies and its possible drawbacks.\n",
    "\n",
    "The detect_airline has to be able to return if none or more than one airline companies are mentioned in a tweet"
   ]
  },
  {
   "cell_type": "code",
   "execution_count": 27,
   "metadata": {},
   "outputs": [],
   "source": [
    "def detect_airline(tweet_msg):\n",
    "    \"\"\"\n",
    "    Detect and return the airline companies mentioned in the tweet\n",
    "\n",
    "    tweet_msg: represents the tweet message.\n",
    "\n",
    "    :return: list of detected airline companies\n",
    "    \"\"\"\n",
    "\n",
    "    present_compagnies = []\n",
    "    try:\n",
    "        compagnies = [[\"Air ?France\", \"Air France\"],\n",
    "                     [\"American ?Airways\",\"American Airways\"],\n",
    "                     [\"British ?Airways\",\"British Airways\"],\n",
    "                     [\"Delta\",\"Delta\"],\n",
    "                     [\"Southwest\",\"Southwest\"],\n",
    "                     [\"United\",\"United\"],\n",
    "                     [\"Us ?Airways\",\"Us Airways\"],\n",
    "                     [\"Virgin ?America\",\"Virgin Airways\"]]\n",
    "        \n",
    "        for compagnie in compagnies:\n",
    "            if re.search(compagnie[0], tweet_msg, re.IGNORECASE | re.DOTALL):\n",
    "                present_compagnies.append(compagnie[1])\n",
    "\n",
    "    except:\n",
    "        raise NotImplementedError(\"\")\n",
    "\n",
    "    return present_compagnies"
   ]
  },
  {
   "cell_type": "markdown",
   "metadata": {},
   "source": [
    "\n",
    "### 3.2.1 Question 10 (0.5 points)\n",
    "\n",
    "Implement the method *extract_sentiment* that receives a tweet and extracts its sentiment."
   ]
  },
  {
   "cell_type": "code",
   "execution_count": 28,
   "metadata": {},
   "outputs": [],
   "source": [
    "def extract_sentiment(classifier, tweet):\n",
    "    \"\"\"\n",
    "    Extract the tweet sentiment\n",
    "    \n",
    "    classifier: classifier object\n",
    "    tweet: represents the tweet message, as a row of the BoW matrix\n",
    "    \n",
    "    :return: list of detected airline companies\n",
    "    \"\"\"\n",
    "    \n",
    "    try:\n",
    "        return classifier.predict(tweet)[0]\n",
    "    except:\n",
    "        raise NotImplementedError(\"\")"
   ]
  },
  {
   "cell_type": "markdown",
   "metadata": {},
   "source": [
    "### 3.2.1 Question 11 (2 points)\n",
    "\n",
    "Using the *extract_tweet_content*, *detect_airline* and *extract_sentiment*, implement a code that generates a bar chart that contains the number of positive, neutral and negatives tweets for each one of the companies. Briefly describe your bar chart (e.g, which was the company with most negative tweets) and how this chart can help airline companies.   "
   ]
  },
  {
   "cell_type": "code",
   "execution_count": 29,
   "metadata": {},
   "outputs": [
    {
     "name": "stdout",
     "output_type": "stream",
     "text": [
      "data shape: trainX: 6817, TrainY: 6817, validX: 1133, validY: 1133\n",
      "     taille dico: 85453 nb tweet: 6817\n",
      "     temps: fit_trans: 9216.690061807632s training: 5.254385948181152s validation: 1199.3631930351257s\n"
     ]
    }
   ],
   "source": [
    "import matplotlib.pyplot as plt\n",
    "\n",
    "pre_process_pipe = PreprocessingPipeline(True, True, True)\n",
    "bow_tfidf = TFIDFBoW(pre_process_pipe, True, False)\n",
    "print(\"data shape: trainX: {}, TrainY: {}, validX: {}, validY: {}\".format(len(training_X),\n",
    "                                                                         len(training_Y),\n",
    "                                                                         len(validation_X),\n",
    "                                                                         len(validation_Y)))\n",
    "\n",
    "classifier = train_evaluate(training_X, training_Y, validation_X, validation_Y, bow_tfidf)[0]"
   ]
  },
  {
   "cell_type": "code",
   "execution_count": 33,
   "metadata": {},
   "outputs": [
    {
     "name": "stdout",
     "output_type": "stream",
     "text": [
      "11492 tweets selectionnés sur 11492\n",
      "\n",
      "Compagnies: ['Virgin Airways', 'Southwest', 'United', 'Delta', 'Air France', 'Us Airways', 'British Airways']\n"
     ]
    },
    {
     "data": {
      "image/png": "[encoded data removed]",
      "text/plain": [
       "<Figure size 432x288 with 1 Axes>"
      ]
     },
     "metadata": {
      "needs_background": "light"
     },
     "output_type": "display_data"
    }
   ],
   "source": [
    "airline_tweet = []\n",
    "airline_index = []\n",
    "i, j = 0, 0\n",
    "for raw_tweet in extract_tweet_content(\"saved_tweets_full.txt\"):\n",
    "    if len(detect_airline(raw_tweet)):\n",
    "        airline_tweet.append(raw_tweet)\n",
    "        airline_index.append(detect_airline(raw_tweet))\n",
    "        i +=1\n",
    "    j +=1\n",
    "print(\"{} tweets selectionnés sur {}\".format(i, j))\n",
    "airline_ls = []\n",
    "for index in airline_index:\n",
    "    for compagnie in index:\n",
    "        if compagnie not in airline_ls:\n",
    "            airline_ls.append(compagnie)\n",
    "\n",
    "bow_tweets = bow_tfidf.transform(airline_tweet)\n",
    "sentiment_vector = [extract_sentiment(classifier, tweet) for tweet in bow_tweets]\n",
    "\n",
    "\n",
    "def count_sentiment_tweet(sentiment, airline, airline_index, sentiment_vector):\n",
    "    count = 0\n",
    "    for i in range(len(sentiment_vector)):\n",
    "        for airline_from_index in airline_index[i]:\n",
    "            if sentiment_vector[i] == sentiment and airline_from_index == airline:\n",
    "                count += 1\n",
    "    return count\n",
    "\n",
    "print(\"\\nCompagnies: \" + str(airline_ls))\n",
    "\n",
    "fig, ax = plt.subplots()\n",
    "bar_width = 0.3\n",
    "negative = ax.bar(range(len(airline_ls)), [count_sentiment_tweet(0, airline, airline_index, sentiment_vector) for airline in airline_ls], bar_width, label = \"negatif\")\n",
    "neutral = ax.bar(np.array(range(len(airline_ls))) + bar_width, [count_sentiment_tweet(1, airline, airline_index, sentiment_vector) for airline in airline_ls], bar_width,label = \"neutre\")\n",
    "positive = ax.bar(np.array(range(len(airline_ls))) + bar_width * 2, [count_sentiment_tweet(2, airline, airline_index, sentiment_vector) for airline in airline_ls], bar_width,label = \"positif\")\n",
    "\n",
    "ax.set_xlabel('compagnies')\n",
    "ax.set_ylabel('nombre de tweets')\n",
    "ax.set_title('nombre de tweet par sentiment et par compagnie')\n",
    "ax.set_xticks(np.array(range(len(airline_ls))) + bar_width / 2)\n",
    "ax.set_xticklabels(airline_ls)\n",
    "ax.legend()\n",
    "\n",
    "fig.tight_layout()\n",
    "plt.show()"
   ]
  },
  {
   "cell_type": "raw",
   "metadata": {},
   "source": [
    "Briefly describe your bar chart (e.g, which was the company with most negative tweets) and how this chart can help airline companies.\n",
    "Ce diagramme peut permettre aux utilisateurs de choisir quelle compagnie utiliser en fonction des avis. Néanmoins, un diagramme similaire montrant les fréquences de tweet positifs, négatifs ou neutre serait plus représentatif des opinions des utilisateurs sur les compagnies. Il permettrait de montrer les pourcentages de satisfaction et d'insatisfaction des utilisateurs sur les compagnies. Il est plus difficile d'emettre une opinion sur le nombre de tweet par sentiment et par compagnie. Et on ne peut qu'approximer l'efficacité des compagnies."
   ]
  },
  {
   "cell_type": "markdown",
   "metadata": {},
   "source": [
    "## 3.3 - Term Analysis\n",
    "\n",
    "POS-tagging consists of extracting the part-of-speech (POS) of each token in a sentence. For instance, the table below depicts the part-of-speechs of the sentence *The cat is white!* are.\n",
    "\n",
    "\n",
    "\n",
    "|   The   | cat  |  is  | white     |    !       |\n",
    "|---------|------|------|-----------|------------|\n",
    "| article | noun | verb | adjective | punctation |\n",
    "\n",
    "\n",
    "The part-of-speech can be more complex than what we have learned in the school. Linguistics need to have a more detailed information about systax information of the words in a sentence. For our problem, we do not need this level of information and, thus, we will use a less complex set, called universal POS tags. \n",
    "\n",
    "In POS-tagging, each part-of-speech is represented by a tag. You can find the POS tag list used in this assignement at https://universaldependencies.org/u/pos/ ."
   ]
  },
  {
   "cell_type": "code",
   "execution_count": 30,
   "metadata": {},
   "outputs": [
    {
     "data": {
      "text/plain": [
       "[('The', 'DET'), ('cat', 'NOUN'), ('is', 'VERB'), ('white', 'ADJ'), ('!', '.')]"
      ]
     },
     "execution_count": 30,
     "metadata": {},
     "output_type": "execute_result"
    }
   ],
   "source": [
    "# NLTK POS-tagger\n",
    "import nltk\n",
    "\n",
    "#before using pos_tag function, you have to tokenize the sentence.\n",
    "s = ['The', 'cat', 'is',  'white', '!']\n",
    "nltk.pos_tag(s,tagset='universal')\n"
   ]
  },
  {
   "cell_type": "markdown",
   "metadata": {},
   "source": [
    "### 3.3.1 Question 12 (2 points)\n",
    "\n",
    "**Implement a code** that retrieves the top 10 most frequent terms for each airline company. You will only consider the terms that appear in a positive and negative tweets. Besides that, we consider as term:\n",
    "1. Words that are either an adjective or a noun\n",
    "2. n-grams that are composed by adjectives followed by a noun (e.g., dirty place) or a noun followed by another noun (e.g.,sports club).\n",
    "\n",
    "Moreover, **generate a table** with the top 10 most frequent terms and their normalized frequencies(percentage) for each airline company.\n",
    "\n",
    "**Do not forget to remove the company names from the chart.**"
   ]
  },
  {
   "cell_type": "code",
   "execution_count": 204,
   "metadata": {},
   "outputs": [
    {
     "name": "stdout",
     "output_type": "stream",
     "text": [
      "Bow for the compagnie : Virgin Airways is (298, 85453)\n",
      "Bow for the compagnie : Southwest is (1458, 85453)\n",
      "Bow for the compagnie : United is (2384, 85453)\n",
      "Bow for the compagnie : Delta is (229, 85453)\n",
      "Bow for the compagnie : Air France is (354, 85453)\n",
      "Bow for the compagnie : Us Airways is (1567, 85453)\n",
      "Bow for the compagnie : British Airways is (1, 85453)\n"
     ]
    }
   ],
   "source": [
    "from scipy.sparse import csc_matrix\n",
    "\n",
    "bow_count = CountBoW(pre_process_pipe, True, False)\n",
    "bow_count.tokens_index = bow_tfidf.tokens_index\n",
    "bow_count_tweets = bow_count.transform(airline_tweet)\n",
    "\n",
    "bow_count_tweets = csr_matrix(bow_count_tweets)\n",
    "bow_pos_and_neg_by_compagnie = []\n",
    "bow_pos_and_neg = []\n",
    "\n",
    "#Autre manière de faire\n",
    "for i in range (len(airline_ls)):\n",
    "    bow_pos_and_neg_by_compagnie.append([])\n",
    "sentiment_vector_pos_and_neg = []\n",
    "\n",
    "for index in range(len(sentiment_vector)):\n",
    "    if sentiment_vector[index] == 0 or sentiment_vector[index] == 2:\n",
    "        for airline in airline_index[index]:\n",
    "            bow_pos_and_neg_by_compagnie[airline_ls.index(airline)].append(bow_count_tweets.getrow(index).toarray()[0].tolist())\n",
    "\n",
    "# on doit filtrer le fait que pour british airway il n'y a pas de tweet negatif ni positif\n",
    "for i in range(len(bow_pos_and_neg_by_compagnie)):\n",
    "    if len(bow_pos_and_neg_by_compagnie[i]) == 0:\n",
    "        del bow_pos_and_neg_by_compagnie[i]\n",
    "        del airline_ls[i]\n",
    "\n",
    "for i in range(len(bow_pos_and_neg_by_compagnie)):\n",
    "    bow_pos_and_neg_by_compagnie[i] = csc_matrix(bow_pos_and_neg_by_compagnie[i])\n",
    "    print(\"Bow for the compagnie : \" + airline_ls[i] + \" is \" + str(bow_pos_and_neg_by_compagnie[i].shape))\n",
    "    \n",
    "max_occurence_word_index = [[0, 0, 0 ,0 ,0 ,0 ,0 ,0 ,0 ,0] for i in range(len(airline_ls))]\n",
    "max_occurence_word_count = [[-1, -2, -3, -4, -5, -6 ,-7 ,-8 ,-9 ,-10] for i in range(len(airline_ls))]\n",
    "nbx_word_per_compagnie = [0,0,0,0,0,0,0,0,0,0]\n",
    "\n",
    "for token_index in range(len(bow_count.tokens_index)):\n",
    "    selected = False\n",
    "    words = tk.tokenize(bow_count.tokens_index[token_index])\n",
    "    if len(words) == 1:\n",
    "        type_wd = nltk.pos_tag(words, tagset='universal')[0][1]\n",
    "        if type_wd == \"ADJ\" or type_wd == \"NOUN\":\n",
    "            selected = True\n",
    "    elif len(words) == 2:\n",
    "        type_wd_1 = nltk.pos_tag(words[0], tagset='universal')[0][1]\n",
    "        type_wd_2 = nltk.pos_tag(words[1], tagset='universal')[0][1]\n",
    "        if (type_wd_1 == \"ADJ\" or type_wd_1 == \"NOUN\") and type_wd_2 == \"NOUN\":\n",
    "            selected = True\n",
    "    if selected:\n",
    "        #mettre boucle for ici\n",
    "        for compagnie_index in range(len(bow_pos_and_neg_by_compagnie)):\n",
    "            #print(\"on essaye compagnie index: \" + str(compagnie_index) + \" et token index \" + str(token_index))\n",
    "            column = bow_pos_and_neg_by_compagnie[compagnie_index].getcol(token_index)\n",
    "            nbx_word_per_compagnie[compagnie_index] += column.sum()\n",
    "            #print(\"token selected: \" + str(bow_count.tokens_index[token_index]))\n",
    "            #print(\"comparaison entre: \" + str(max_occurence_word_count[compagnie_index]) + \" et: \" + str(column.sum()) + \" pour la compagnie: \" + str(compagnie_index))\n",
    "            index_min = max_occurence_word_count[compagnie_index].index(min(max_occurence_word_count[compagnie_index]))\n",
    "            if max_occurence_word_count[compagnie_index][index_min] < column.sum():\n",
    "                #print(\"selection du: \" + str(index_min + 1) + \"eme chiffre de valeur d'index: \" + str(max_occurence_word_index[compagnie_index][index_min]) + \" replacé par: \" + str(token_index))\n",
    "                max_occurence_word_index[compagnie_index][index_min] = token_index\n",
    "                max_occurence_word_count[compagnie_index][index_min] = column.sum()"
   ]
  },
  {
   "cell_type": "code",
   "execution_count": 213,
   "metadata": {},
   "outputs": [],
   "source": [
    "word_frequency_per_compagnie = [[-1, -2, -3, -4, -5, -6 ,-7 ,-8 ,-9 ,-10] for i in range(len(airline_ls))]\n",
    "#Donne les pourcentages d'apparition des mots\n",
    "for compagnie in airline_ls:\n",
    "    for i in range (len (max_occurence_word_count[airline_ls.index(compagnie)])):\n",
    "        word_frequency_per_compagnie[airline_ls.index(compagnie)][i] = max_occurence_word_count[airline_ls.index(compagnie)][i] * 100/nbx_word_per_compagnie[airline_ls.index(compagnie)]\n"
   ]
  },
  {
   "cell_type": "code",
   "execution_count": 259,
   "metadata": {},
   "outputs": [
    {
     "name": "stdout",
     "output_type": "stream",
     "text": [
      "Compagnie : Virgin Airways\n"
     ]
    },
    {
     "data": {
      "text/plain": [
       "<Figure size 432x288 with 0 Axes>"
      ]
     },
     "metadata": {},
     "output_type": "display_data"
    },
    {
     "data": {
      "image/png": "[encoded data removed]",
      "text/plain": [
       "<Figure size 432x288 with 1 Axes>"
      ]
     },
     "metadata": {
      "needs_background": "light"
     },
     "output_type": "display_data"
    },
    {
     "name": "stdout",
     "output_type": "stream",
     "text": [
      "Compagnie : Southwest\n"
     ]
    },
    {
     "data": {
      "text/plain": [
       "<Figure size 432x288 with 0 Axes>"
      ]
     },
     "metadata": {},
     "output_type": "display_data"
    },
    {
     "data": {
      "image/png": "[encoded data removed]",
      "text/plain": [
       "<Figure size 432x288 with 1 Axes>"
      ]
     },
     "metadata": {
      "needs_background": "light"
     },
     "output_type": "display_data"
    },
    {
     "name": "stdout",
     "output_type": "stream",
     "text": [
      "Compagnie : United\n"
     ]
    },
    {
     "data": {
      "text/plain": [
       "<Figure size 432x288 with 0 Axes>"
      ]
     },
     "metadata": {},
     "output_type": "display_data"
    },
    {
     "data": {
      "image/png": "[encoded data removed]",
      "text/plain": [
       "<Figure size 432x288 with 1 Axes>"
      ]
     },
     "metadata": {
      "needs_background": "light"
     },
     "output_type": "display_data"
    },
    {
     "name": "stdout",
     "output_type": "stream",
     "text": [
      "Compagnie : Delta\n"
     ]
    },
    {
     "data": {
      "text/plain": [
       "<Figure size 432x288 with 0 Axes>"
      ]
     },
     "metadata": {},
     "output_type": "display_data"
    },
    {
     "data": {
      "image/png": "[encoded data removed]",
      "text/plain": [
       "<Figure size 432x288 with 1 Axes>"
      ]
     },
     "metadata": {
      "needs_background": "light"
     },
     "output_type": "display_data"
    },
    {
     "name": "stdout",
     "output_type": "stream",
     "text": [
      "Compagnie : Air France\n"
     ]
    },
    {
     "data": {
      "text/plain": [
       "<Figure size 432x288 with 0 Axes>"
      ]
     },
     "metadata": {},
     "output_type": "display_data"
    },
    {
     "data": {
      "image/png": "[encoded data removed]",
      "text/plain": [
       "<Figure size 432x288 with 1 Axes>"
      ]
     },
     "metadata": {
      "needs_background": "light"
     },
     "output_type": "display_data"
    },
    {
     "name": "stdout",
     "output_type": "stream",
     "text": [
      "Compagnie : Us Airways\n"
     ]
    },
    {
     "data": {
      "text/plain": [
       "<Figure size 432x288 with 0 Axes>"
      ]
     },
     "metadata": {},
     "output_type": "display_data"
    },
    {
     "data": {
      "image/png": "[encoded data removed]",
      "text/plain": [
       "<Figure size 432x288 with 1 Axes>"
      ]
     },
     "metadata": {
      "needs_background": "light"
     },
     "output_type": "display_data"
    },
    {
     "name": "stdout",
     "output_type": "stream",
     "text": [
      "Compagnie : British Airways\n"
     ]
    },
    {
     "data": {
      "text/plain": [
       "<Figure size 432x288 with 0 Axes>"
      ]
     },
     "metadata": {},
     "output_type": "display_data"
    },
    {
     "data": {
      "image/png": "[encoded data removed]",
      "text/plain": [
       "<Figure size 432x288 with 1 Axes>"
      ]
     },
     "metadata": {
      "needs_background": "light"
     },
     "output_type": "display_data"
    }
   ],
   "source": [
    "for c in range(len(airline_ls)):\n",
    "    print(\"Compagnie : \" + str(airline_ls[c]))\n",
    "    columns = [bow_count.tokens_index[token_index] for token_index in max_occurence_word_index[c]]\n",
    "    cellText=[float(word_frequency_per_compagnie[c][i]) for i in range(len(word_frequency_per_compagnie[c]))]\n",
    "    plt.clf()\n",
    "    fig, ax = plt.subplots()\n",
    "\n",
    "    # hide axes\n",
    "    ax.axis('off')\n",
    "    ax.axis('tight')\n",
    "    ax.table(cellText=[cellText], colLabels=columns, loc='center')\n",
    "\n",
    "    fig.tight_layout()\n",
    "    plt.subplots_adjust(right=5)\n",
    "    plt.show()"
   ]
  },
  {
   "cell_type": "code",
   "execution_count": 212,
   "metadata": {},
   "outputs": [
    {
     "name": "stdout",
     "output_type": "stream",
     "text": [
      "Name oh the compagny : Virgin Airways\n",
      "top words: ['love', 'fli', 'guy', 'virgin', 'flight', 'great', 'i', 'you guy', 'thank', 'seat']\n",
      "max_occurence_word_index: [2706, 4289, 770, 36205, 4480, 345, 8, 16027, 917, 20659]\n",
      "occurence top words: [31.0, 33.0, 22.0, 20.0, 86.0, 19.0, 143.0, 18.0, 43.0, 23.0]\n",
      "percentage top words: [1.0275107722903547, 1.0938017898574743, 0.7292011932383162, 0.6629101756711966, 2.850513755386145, 0.6297646668876368, 4.739807756049055, 0.596619158104077, 1.4252568776930725, 0.762346702021876]\n",
      "Name oh the compagny : Southwest\n",
      "top words: ['servic', 'flight', 'custom', 'help', 'thank', 'time', 'i', 'fli', 'thank you', 'cancel']\n",
      "max_occurence_word_index: [1567, 4480, 8025, 3096, 917, 887, 8, 4289, 4418, 4414]\n",
      "occurence top words: [105.0, 438.0, 102.0, 99.0, 333.0, 96.0, 719.0, 111.0, 136.0, 152.0]\n",
      "percentage top words: [0.6687472135532768, 2.7896312336793834, 0.6496401503088975, 0.6305330870645182, 2.1208840201261068, 0.6114260238201389, 4.579326157569581, 0.7069613400420356, 0.86618686707853, 0.9680912043818864]\n",
      "Name oh the compagny : United\n",
      "top words: ['delay', 'custom', 'flight', 'servic', 'unit', 'bag', 'i', 'wait', 'time', 'thank']\n",
      "max_occurence_word_index: [22847, 8025, 4480, 1567, 1768, 6842, 8, 4444, 887, 917]\n",
      "occurence top words: [208.0, 186.0, 648.0, 186.0, 338.0, 173.0, 1173.0, 148.0, 177.0, 418.0]\n",
      "percentage top words: [0.7754828126165089, 0.6934605920513012, 2.415927223920662, 0.6934605920513012, 1.260159570501827, 0.6449929162627693, 4.3732756692267545, 0.5517858474386698, 0.6599060472746253, 1.5584221907389457]\n",
      "Name oh the compagny : Delta\n",
      "top words: ['much', 'miss', \"do n't\", 'good', 'love', 'fli', 'i', 'time', 'thank', 'flight']\n",
      "max_occurence_word_index: [638, 506, 520, 444, 2706, 4289, 8, 887, 917, 4480]\n",
      "occurence top words: [13.0, 13.0, 14.0, 18.0, 20.0, 13.0, 149.0, 15.0, 22.0, 43.0]\n",
      "percentage top words: [0.4878048780487805, 0.4878048780487805, 0.525328330206379, 0.6754221388367729, 0.7504690431519699, 0.4878048780487805, 5.590994371482176, 0.5628517823639775, 0.8255159474671669, 1.6135084427767354]\n",
      "Name oh the compagny : Air France\n",
      "top words: ['franc', 'plane', 'flight', 'miss', 'hope', 'famili', 'i', 'air', 'peopl', 'sad']\n",
      "max_occurence_word_index: [8998, 4157, 4480, 506, 95, 5261, 8, 1354, 1641, 3418]\n",
      "occurence top words: [337.0, 80.0, 99.0, 55.0, 57.0, 62.0, 154.0, 336.0, 45.0, 128.0]\n",
      "percentage top words: [8.046800382043935, 1.9102196752626552, 2.3638968481375358, 1.3132760267430754, 1.3610315186246418, 1.4804202483285578, 3.677172874880611, 8.022922636103152, 1.0744985673352436, 3.0563514804202483]\n",
      "Name oh the compagny : Us Airways\n",
      "top words: ['custom', 'servic', 'hour', 'thank', 'help', 'hold', 'i', 'flight', 'cancel', 'time']\n",
      "max_occurence_word_index: [8025, 1567, 2681, 917, 3096, 5047, 8, 4480, 4414, 887]\n",
      "occurence top words: [153.0, 170.0, 123.0, 261.0, 126.0, 141.0, 828.0, 493.0, 132.0, 122.0]\n",
      "percentage top words: [0.8382642998027613, 0.9314047775586237, 0.6738987508218277, 1.4299802761341223, 0.6903353057199211, 0.7725180802103879, 4.536489151873767, 2.7010738549200086, 0.7232084155161078, 0.6684198991891299]\n",
      "Name oh the compagny : British Airways\n",
      "top words: ['decid', 'everyth', 'guy', \"did n't\", 'for my', 'in my', 'charg', 'bag', 'awesom', 'kg']\n",
      "max_occurence_word_index: [138, 143, 770, 1488, 1863, 2590, 3801, 6842, 9547, 10682]\n",
      "occurence top words: [1.0, 1.0, 1.0, 1.0, 1.0, 1.0, 1.0, 1.0, 1.0, 1.0]\n",
      "percentage top words: [7.6923076923076925, 7.6923076923076925, 7.6923076923076925, 7.6923076923076925, 7.6923076923076925, 7.6923076923076925, 7.6923076923076925, 7.6923076923076925, 7.6923076923076925, 7.6923076923076925]\n"
     ]
    }
   ],
   "source": [
    "#Generation du tableau\n",
    "for compagnie in airline_ls:\n",
    "    print(\"Name oh the compagny : \" + str(compagnie))\n",
    "    print('top words: ' + str([bow_count.tokens_index[token_index] for token_index in max_occurence_word_index[airline_ls.index(compagnie)]]))\n",
    "    print('max_occurence_word_index: ' + str(max_occurence_word_index[airline_ls.index(compagnie)]))\n",
    "    print('occurence top words: ' + str(max_occurence_word_count[airline_ls.index(compagnie)]))\n",
    "    print('percentage top words: ' + str(word_frequency_per_compagnie[airline_ls.index(compagnie)]))\n",
    "\n"
   ]
  },
  {
   "cell_type": "markdown",
   "metadata": {},
   "source": [
    "### 3.3.2 Question 13 (1 point)\n",
    "\n",
    "The table generated in the Question 12 can lead us to any conclusion about each one of the 9 companies? Can we identify specific events that have occured during the data retrieval?"
   ]
  },
  {
   "cell_type": "raw",
   "metadata": {},
   "source": [
    "La table generée donne les mots les plus utilisés par les utilisateurs pour décrire chacune des compagnies ainsi si un de ces tableaux est remplis de mots positifs, on en déduira que la compagnie est efficace au contraire si la liste est rempli de mot négatif on en déduira que la compagnie est mauvaise. Evidement, notre programme ne comprenant pas le sarcasme, ce n'est pas non plus un indicateur optimal.\n",
    "\n",
    "Virgin Airways (1458, 85453) contient beaucoup de \"love\" et de \"great\": cela suppose qu'elle est efficace.\n",
    "SouthWest (298, 85453): Pas de déduction évidente.\n",
    "United (2384, 85453):\n",
    "Les mots \"delay\" et \"wait\" peuvent indiquer que la compagnie n'est pas très efficace.\n",
    "Delta (229, 85453): Il y a beaucoup de mots positif dans cette liste mais aussi le mot \"don't\" donc il est difficile de conclure quoi que ce soit sur cette compagnie.\n",
    "Air France (354, 85453): Les mots \"sad\" et \"miss\" sont négatifs.\n",
    "Us Airways  1567, 85453) : Pas de déduction évidente.\n",
    "British Airways  (1, 85453)\n",
    "Il n'y a qu'un seule avis sur cette compagnie, on ne peut donc faire aucune déduction.\n",
    "\n",
    "Les déductions faites avec cette méthode sont peu fiable comme on l'a vue pour Delta, le mot \"don't\" peut inverser la valeur de \"good\" ainsi la présence du mot \"good\" n'est pas forcément valorisante. De plus cette méthode ne prend pas en compte le sarcasme.\n",
    "On peut faire dire ce qu'on veut au chiffre et données récupérer, c'est pourquoi les compagnies peuvent montrer et exploiter des chiffres en valorisant leurs compagnies même lorsque la plupart des utilisateurs sont mécontent."
   ]
  },
  {
   "cell_type": "markdown",
   "metadata": {},
   "source": []
  },
  {
   "cell_type": "markdown",
   "metadata": {},
   "source": [
    "# 4 - Bonus (2 points)\n",
    "\n",
    "Person names, companies names and locations are called named entities. Named-entity recognition (NER) is the task of extracting named entities  classifying them using pre-defined categories. In this bonus section, you will use a Named Entity Recognizer to automatically extract named entities from the tweets. This approach is generic enough to retrieve information about other companies or even product and people names.\n",
    "\n",
    "**For the bonus, you are free to use any Named Entity Recognizer that has python wrapper or is implemented in python. Moreover, you have to use the tweet database of the previous section (https://drive.google.com/file/d/1Cuw6Y12Bj91vF_iH49mqPZZfJkY92iBY/view?usp=sharing)**\n"
   ]
  },
  {
   "cell_type": "markdown",
   "metadata": {},
   "source": [
    "## 4.1 - Bonus 2 (1 point)\n",
    "\n",
    "Implement a code that generates the table with the top 10 most mentioned named entities in the database (this table has to contain the frequencies of the name entities). After that, generates a bar chart that despicts the number of positive, negative and neutral tweets for each one of these 10 named entities. Briefly describe the results found in the bar chart.\n",
    "\n",
    "*Ignore the named entities related to the following airline companies : Air France, American, British Airways,  Delta, Southwest, United, Us Airways and Virgin America.*"
   ]
  },
  {
   "cell_type": "code",
   "execution_count": 34,
   "metadata": {},
   "outputs": [],
   "source": [
    "import spacy\n",
    "from spacy import displacy\n",
    "from collections import Counter\n",
    "import en_core_web_sm\n",
    "nlp = en_core_web_sm.load()\n",
    "\n",
    "raw_tweets =extract_tweet_content(\"saved_tweets_full.txt\")\n",
    "bow_tweets = bow_tfidf.transform(raw_tweets)\n",
    "sentiment_vector = [extract_sentiment(classifier, tweet) for tweet in bow_tweets]\n",
    "bow_count = CountBoW(pre_process_pipe, True, False)\n",
    "bow_count.tokens_index = bow_tfidf.tokens_index\n",
    "bow_count_tweets = bow_count.transform(airline_tweet)\n",
    "bow_count_tweets = csr_matrix(bow_count_tweets)"
   ]
  },
  {
   "cell_type": "code",
   "execution_count": 35,
   "metadata": {},
   "outputs": [
    {
     "ename": "NameError",
     "evalue": "name 'lena' is not defined",
     "output_type": "error",
     "traceback": [
      "\u001b[1;31m---------------------------------------------------------------------------\u001b[0m",
      "\u001b[1;31mNameError\u001b[0m                                 Traceback (most recent call last)",
      "\u001b[1;32m<ipython-input-35-bc9228b0ecfb>\u001b[0m in \u001b[0;36m<module>\u001b[1;34m\u001b[0m\n\u001b[0;32m      9\u001b[0m     \u001b[1;32mreturn\u001b[0m \u001b[0mresult\u001b[0m\u001b[1;33m\u001b[0m\u001b[1;33m\u001b[0m\u001b[0m\n\u001b[0;32m     10\u001b[0m \u001b[1;33m\u001b[0m\u001b[0m\n\u001b[1;32m---> 11\u001b[1;33m \u001b[0mprint\u001b[0m\u001b[1;33m(\u001b[0m\u001b[0mlena\u001b[0m\u001b[1;33m(\u001b[0m\u001b[0mbow_count\u001b[0m\u001b[1;33m.\u001b[0m\u001b[0mtokens_index\u001b[0m\u001b[1;33m)\u001b[0m\u001b[1;33m)\u001b[0m\u001b[1;33m\u001b[0m\u001b[1;33m\u001b[0m\u001b[0m\n\u001b[0m\u001b[0;32m     12\u001b[0m \"\"\"for token_index in range(len(bow_count.tokens_index)):\n\u001b[0;32m     13\u001b[0m     \u001b[0mselected\u001b[0m \u001b[1;33m=\u001b[0m \u001b[1;32mFalse\u001b[0m\u001b[1;33m\u001b[0m\u001b[1;33m\u001b[0m\u001b[0m\n",
      "\u001b[1;31mNameError\u001b[0m: name 'lena' is not defined"
     ]
    }
   ],
   "source": [
    "def get_10_max_index(liste):\n",
    "    result = []\n",
    "    clone = liste.copy()\n",
    "    dec = 0\n",
    "    for i in range (10):\n",
    "        index_max = clone.index(max(clone)) + dec\n",
    "        result.append(index_max)\n",
    "        clone[index_max] = min(clone)\n",
    "    return result\n",
    "\n",
    "print(lena(bow_count.tokens_index))\n",
    "\"\"\"for token_index in range(len(bow_count.tokens_index)):\n",
    "    selected = False\n",
    "    words = tk.tokenize(bow_count.tokens_index[token_index])\n",
    "    ent = nlp(words).ents\"\"\"\n",
    "\n",
    "\n",
    "doc = nlp('European authorities fined Google a record $5.1 billion on Wednesday for abusing its power in the mobile phone market and ordered the company to alter its practices')\n",
    "print(doc.ents)\n",
    "ents_index = []\n",
    "ents_count = []\n",
    "\n",
    "for tweet in raw_tweets:\n",
    "    ents = nlp(tweet.lower).ents\n",
    "    if ents : \n",
    "        for ent in ents:\n",
    "            #print (ent.__class__)\n",
    "            #print(ents.__class__)\n",
    "            #print(ent)\n",
    "            if not ent in ents_index:\n",
    "                ents_index.append(ent)\n",
    "                ents_count.append(1)\n",
    "            else : \n",
    "                ents_count[ents_index.index(ent)] += 1 # on compte les occurences des names entities\n",
    "#print (ents_index)\n",
    "#print (ents_count)\n",
    "\n",
    "index_max = get_10_max_index(ents_count)\n",
    "frequent_ner = []\n",
    "ner_sum = sum(ents_count)\n",
    "print(\"Max ents_count : \" + str(max(ents_count)))\n",
    "#print(len(ents_count))\n",
    "for i in index_max:\n",
    "    #print (ents_count[i])\n",
    "    frequent_ner.append(ents_index[i])\n",
    "print(\"Tableau des 10 entités nommées les plus fréquentes : \" + str(frequent_ner))\n",
    "\n",
    "    \n",
    "    "
   ]
  },
  {
   "cell_type": "code",
   "execution_count": 208,
   "metadata": {},
   "outputs": [],
   "source": [
    "neg_neut_pos_by_ner = [[0,0,0],\n",
    "                       [0,0,0],\n",
    "                       [0,0,0],\n",
    "                       [0,0,0],\n",
    "                       [0,0,0],\n",
    "                       [0,0,0],\n",
    "                       [0,0,0],\n",
    "                       [0,0,0],\n",
    "                       [0,0,0],\n",
    "                       [0,0,0]]\n",
    "\n",
    "for tweet_index in range(len(raw_tweets)) :\n",
    "    tweet = raw_tweets[tweet_index]\n",
    "    ents = nlp(tweet.lower).ents\n",
    "    for frequent_ent in frequent_ner:\n",
    "        if frequent_ent in ents:\n",
    "            if sentiment_vector[tweet_index] == 0:\n",
    "                neg_neut_pos_by_ner[frequent_ner.index(frequent_ent)][0] += 1\n",
    "            if sentiment_vector[tweet_index] == 1:\n",
    "                neg_neut_pos_by_ner[frequent_ner.index(frequent_ent)][1] += 1\n",
    "            if sentiment_vector[tweet_index] == 2:\n",
    "                neg_neut_pos_by_ner[frequent_ner.index(frequent_ent)][2] += 1\n",
    "                "
   ]
  },
  {
   "cell_type": "code",
   "execution_count": 209,
   "metadata": {},
   "outputs": [
    {
     "name": "stdout",
     "output_type": "stream",
     "text": [
      "10\n",
      "[@SouthwestAir, @deltalex hows, @AmericanAir, Lisa J, 200, IAD, two, one, 2nd, One]\n"
     ]
    },
    {
     "data": {
      "image/png": "[encoded data removed]",
      "text/plain": [
       "<Figure size 432x288 with 1 Axes>"
      ]
     },
     "metadata": {
      "needs_background": "light"
     },
     "output_type": "display_data"
    }
   ],
   "source": [
    "#On dessine le bar chart\n",
    "fig, ax = plt.subplots()\n",
    "bar_width = 0.3\n",
    "print(len(frequent_ner))\n",
    "print(frequent_ner)\n",
    "negative = ax.bar(range(len(frequent_ner)), [neg_neut_pos_by_ner[frequent_ner.index(frequent_ent)][0] for frequent_ent in frequent_ner], bar_width, label = \"negatif\")\n",
    "neutral = ax.bar(np.array(range(len(frequent_ner))) + bar_width, [neg_neut_pos_by_ner[frequent_ner.index(frequent_ent)][1] for frequent_ent in frequent_ner], bar_width, label = \"neutre\")\n",
    "positive = ax.bar(np.array(range(len(frequent_ner)))+ bar_width*2 , [neg_neut_pos_by_ner[frequent_ner.index(frequent_ent)][2] for frequent_ent in frequent_ner], bar_width, label = \"positif\")\n",
    "\n",
    "ax.set_xlabel('Entité nommées les plus fréquents')\n",
    "ax.set_ylabel('nombre de tweets')\n",
    "ax.set_title('nombre de tweet par sentiment et par entité nommée')\n",
    "ax.set_xticks(np.array(range(len(frequent_ner))) + bar_width / 2)\n",
    "ax.set_xticklabels([frequent_ner[i].text for i in range(len(frequent_ner))])\n",
    "ax.legend()\n",
    "\n",
    "fig.tight_layout()\n",
    "plt.show()"
   ]
  },
  {
   "cell_type": "raw",
   "metadata": {},
   "source": [
    "On trouve 3 compagnies dans le top des entités nommées. On obtient donc des informations sur ces compagnies. D'abord, il se peut que ce soit les plus commentés. Ensuite On obtient le nombre de tweet negatif neutre ou positifs en fonction de la présence du @Nom_de_la_compagnie. Ces informations sont intéressantes surtout si on regarde les fréquences (question suivante)\n",
    "\n",
    "(En enlevant les majuscules, on retire le mot \"One\" et on obtient plus d'information sur nos données.) "
   ]
  },
  {
   "cell_type": "markdown",
   "metadata": {},
   "source": [
    "## 4.2 - Bonus 3 (1 point)\n",
    "\n",
    "Generate a similar table produced in the Question 12 for the 10 most mentioned named entities in Bonus 2. Can we draw any conclusion about these named entities?"
   ]
  },
  {
   "cell_type": "code",
   "execution_count": 210,
   "metadata": {},
   "outputs": [
    {
     "name": "stdout",
     "output_type": "stream",
     "text": [
      "Named Entities : @SouthwestAir\n",
      "ents_count_index: 46\n",
      "occurence of named entities: 132\n",
      "percentage of apparition of named entities: 0.7828717157938437\n",
      "frequence de tweet negatif parmi les tweets contenant l'entité nommée: 19.696969696969695\n",
      "frequence de tweet neutre parmi les tweets contenant l'entité nommée: 50.0\n",
      "frequence de tweet positif parmi les tweets contenant l'entité nommée: 30.303030303030305\n",
      "Named Entities : @deltalex hows\n",
      "ents_count_index: 395\n",
      "occurence of named entities: 48\n",
      "percentage of apparition of named entities: 0.2846806239250341\n",
      "frequence de tweet negatif parmi les tweets contenant l'entité nommée: 8.333333333333334\n",
      "frequence de tweet neutre parmi les tweets contenant l'entité nommée: 22.916666666666668\n",
      "frequence de tweet positif parmi les tweets contenant l'entité nommée: 68.75\n",
      "Named Entities : @AmericanAir\n",
      "ents_count_index: 81\n",
      "occurence of named entities: 47\n",
      "percentage of apparition of named entities: 0.2787497775932626\n",
      "frequence de tweet negatif parmi les tweets contenant l'entité nommée: 21.27659574468085\n",
      "frequence de tweet neutre parmi les tweets contenant l'entité nommée: 40.42553191489362\n",
      "frequence de tweet positif parmi les tweets contenant l'entité nommée: 38.297872340425535\n",
      "Named Entities : Lisa J\n",
      "ents_count_index: 261\n",
      "occurence of named entities: 43\n",
      "percentage of apparition of named entities: 0.2550263922661764\n",
      "frequence de tweet negatif parmi les tweets contenant l'entité nommée: 30.232558139534884\n",
      "frequence de tweet neutre parmi les tweets contenant l'entité nommée: 39.53488372093023\n",
      "frequence de tweet positif parmi les tweets contenant l'entité nommée: 30.232558139534884\n",
      "Named Entities : 200\n",
      "ents_count_index: 103\n",
      "occurence of named entities: 39\n",
      "percentage of apparition of named entities: 0.2313030069390902\n",
      "frequence de tweet negatif parmi les tweets contenant l'entité nommée: 15.384615384615385\n",
      "frequence de tweet neutre parmi les tweets contenant l'entité nommée: 61.53846153846154\n",
      "frequence de tweet positif parmi les tweets contenant l'entité nommée: 23.076923076923077\n",
      "Named Entities : IAD\n",
      "ents_count_index: 156\n",
      "occurence of named entities: 38\n",
      "percentage of apparition of named entities: 0.22537216060731866\n",
      "frequence de tweet negatif parmi les tweets contenant l'entité nommée: 18.42105263157895\n",
      "frequence de tweet neutre parmi les tweets contenant l'entité nommée: 63.1578947368421\n",
      "frequence de tweet positif parmi les tweets contenant l'entité nommée: 18.42105263157895\n",
      "Named Entities : two\n",
      "ents_count_index: 591\n",
      "occurence of named entities: 37\n",
      "percentage of apparition of named entities: 0.2194413142755471\n",
      "frequence de tweet negatif parmi les tweets contenant l'entité nommée: 24.324324324324323\n",
      "frequence de tweet neutre parmi les tweets contenant l'entité nommée: 48.648648648648646\n",
      "frequence de tweet positif parmi les tweets contenant l'entité nommée: 27.027027027027028\n",
      "Named Entities : one\n",
      "ents_count_index: 233\n",
      "occurence of named entities: 36\n",
      "percentage of apparition of named entities: 0.21351046794377557\n",
      "frequence de tweet negatif parmi les tweets contenant l'entité nommée: 11.11111111111111\n",
      "frequence de tweet neutre parmi les tweets contenant l'entité nommée: 69.44444444444444\n",
      "frequence de tweet positif parmi les tweets contenant l'entité nommée: 19.444444444444443\n",
      "Named Entities : 2nd\n",
      "ents_count_index: 272\n",
      "occurence of named entities: 36\n",
      "percentage of apparition of named entities: 0.21351046794377557\n",
      "frequence de tweet negatif parmi les tweets contenant l'entité nommée: 19.444444444444443\n",
      "frequence de tweet neutre parmi les tweets contenant l'entité nommée: 58.333333333333336\n",
      "frequence de tweet positif parmi les tweets contenant l'entité nommée: 22.22222222222222\n",
      "Named Entities : One\n",
      "ents_count_index: 43\n",
      "occurence of named entities: 35\n",
      "percentage of apparition of named entities: 0.20757962161200402\n",
      "frequence de tweet negatif parmi les tweets contenant l'entité nommée: 11.428571428571429\n",
      "frequence de tweet neutre parmi les tweets contenant l'entité nommée: 57.142857142857146\n",
      "frequence de tweet positif parmi les tweets contenant l'entité nommée: 31.428571428571427\n"
     ]
    }
   ],
   "source": [
    "#Frequence des names entities generated \n",
    "frequence_ner = [0,0,0,0,0,0,0,0,0,0]\n",
    "for i in range(len(frequent_ner)):\n",
    "    frequence_ner[i] = ents_count[index_max[i]]*100/ner_sum\n",
    "\n",
    "\n",
    "for i in range(len(frequent_ner)):\n",
    "    print(\"Named Entities : \" + str(frequent_ner[i]))\n",
    "    print('ents_count_index: ' + str(index_max[i]))\n",
    "    print('occurence of named entities: ' + str(ents_count[index_max[i]]))\n",
    "    print('percentage of apparition of named entities: ' + str(frequence_ner[i]))\n",
    "    print(\"frequence de tweet negatif parmi les tweets contenant l'entité nommée: \" + str(neg_neut_pos_by_ner[i][0]*100/ents_count[index_max[i]]))\n",
    "    print(\"frequence de tweet neutre parmi les tweets contenant l'entité nommée: \" + str(neg_neut_pos_by_ner[i][1]*100/ents_count[index_max[i]]))\n",
    "    print(\"frequence de tweet positif parmi les tweets contenant l'entité nommée: \" + str(neg_neut_pos_by_ner[i][2]*100/ents_count[index_max[i]]))"
   ]
  },
  {
   "cell_type": "code",
   "execution_count": 257,
   "metadata": {},
   "outputs": [
    {
     "data": {
      "text/plain": [
       "<Figure size 432x288 with 0 Axes>"
      ]
     },
     "metadata": {},
     "output_type": "display_data"
    },
    {
     "data": {
      "image/png": "[encoded data removed]",
      "text/plain": [
       "<Figure size 432x288 with 1 Axes>"
      ]
     },
     "metadata": {
      "needs_background": "light"
     },
     "output_type": "display_data"
    }
   ],
   "source": [
    "plt.clf()\n",
    "rows = [str(frequent_ner[i].text) for i in range(len(frequent_ner))]\n",
    "columns = (\"Negatif\", \"Neutre\", \"Positif\")\n",
    "cellText=[[neg_neut_pos_by_ner[i][j]*100/ents_count[index_max[i]] for j in range(3)] for i in range(len(index_max))]\n",
    "\n",
    "print(\"Fréquence des tweet en fonction des sentiments\")\n",
    "fig, ax = plt.subplots()\n",
    "\n",
    "# hide axes\n",
    "ax.axis('off')\n",
    "ax.axis('tight')\n",
    "ax.table(cellText=cellText, colLabels=columns, rowLabels=rows, loc='center')\n",
    "\n",
    "fig.tight_layout()\n",
    "plt.subplots_adjust()\n",
    "plt.show()"
   ]
  },
  {
   "cell_type": "code",
   "execution_count": 262,
   "metadata": {},
   "outputs": [
    {
     "name": "stdout",
     "output_type": "stream",
     "text": [
      "Nombre total de negatif :2506\n",
      "Nombre total de neutre :5316\n",
      "Nombre total de positif :3670\n"
     ]
    }
   ],
   "source": [
    "print (\"Nombre total de negatif :\" + str(sentiment_vector.count(0)))\n",
    "print (\"Nombre total de neutre :\" + str(sentiment_vector.count(1)))\n",
    "print (\"Nombre total de positif :\" + str(sentiment_vector.count(2)))"
   ]
  },
  {
   "cell_type": "raw",
   "metadata": {},
   "source": [
    "Le tableau montre la fréquence des tweets negatif, neutre ou positif contenant une entité nommé spécifié. Lorsque cette entité nommé désigne une comagnie, on peut essayer de déduire certaines informations sur cette compagnies. Par exemple, 68.75% des utilisateurs de delta ont envoyé des commentaires positifs sur la compagnie, cette indication peut être un indicateur d'efficacité et inciter d'aute usager à utiliser cette compagnie. On contraire SouthwestAir a 20% de commentaire négatif pour 30% de commentaire positif. Cette indication risque de pousser certains utilisateurs à délaisser cette compagnie. \n",
    "\n",
    "Evidement, notre programme ne comprenant pas le sarcasme, ce n'est pas plus un indicateur optimal."
   ]
  }
 ],
 "metadata": {
  "kernelspec": {
   "display_name": "Python 3",
   "language": "python",
   "name": "python3"
  },
  "language_info": {
   "codemirror_mode": {
    "name": "ipython",
    "version": 3
   },
   "file_extension": ".py",
   "mimetype": "text/x-python",
   "name": "python",
   "nbconvert_exporter": "python",
   "pygments_lexer": "ipython3",
   "version": "3.7.3"
  },
  "toc": {
   "base_numbering": 1,
   "nav_menu": {},
   "number_sections": false,
   "sideBar": true,
   "skip_h1_title": false,
   "title_cell": "Table of Contents",
   "title_sidebar": "Contents",
   "toc_cell": false,
   "toc_position": {},
   "toc_section_display": true,
   "toc_window_display": false
  }
 },
 "nbformat": 4,
 "nbformat_minor": 2
}
